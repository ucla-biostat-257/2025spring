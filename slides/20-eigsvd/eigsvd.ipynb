{
 "cells": [
  {
   "cell_type": "raw",
   "metadata": {
    "vscode": {
     "languageId": "raw"
    }
   },
   "source": [
    "---\n",
    "title: Eigen-decomposition and SVD\n",
    "subtitle: Biostat/Biomath M257\n",
    "author: Dr. Hua Zhou @ UCLA\n",
    "date: today\n",
    "format:\n",
    "  html:\n",
    "    theme: cosmo\n",
    "    embed-resources: true\n",
    "    number-sections: true\n",
    "    toc: true\n",
    "    toc-depth: 4\n",
    "    toc-location: left\n",
    "    code-fold: false\n",
    "    link-external-icon: true\n",
    "    link-external-newwindow: true\n",
    "---"
   ]
  },
  {
   "cell_type": "markdown",
   "metadata": {},
   "source": [
    "System information (for reproducibility):"
   ]
  },
  {
   "cell_type": "code",
   "execution_count": 18,
   "metadata": {},
   "outputs": [
    {
     "name": "stdout",
     "output_type": "stream",
     "text": [
      "Julia Version 1.11.5\n",
      "Commit 760b2e5b739 (2025-04-14 06:53 UTC)\n",
      "Build Info:\n",
      "  Official https://julialang.org/ release\n",
      "Platform Info:\n",
      "  OS: macOS (arm64-apple-darwin24.0.0)\n",
      "  CPU: 12 × Apple M2 Max\n",
      "  WORD_SIZE: 64\n",
      "  LLVM: libLLVM-16.0.6 (ORCJIT, apple-m2)\n",
      "Threads: 8 default, 0 interactive, 4 GC (on 8 virtual cores)\n",
      "Environment:\n",
      "  JULIA_NUM_THREADS = 8\n",
      "  JULIA_EDITOR = code\n"
     ]
    }
   ],
   "source": [
    "versioninfo()"
   ]
  },
  {
   "cell_type": "markdown",
   "metadata": {},
   "source": [
    "Load packages:"
   ]
  },
  {
   "cell_type": "code",
   "execution_count": 19,
   "metadata": {},
   "outputs": [
    {
     "name": "stderr",
     "output_type": "stream",
     "text": [
      "\u001b[32m\u001b[1m  Activating\u001b[22m\u001b[39m project at `~/Documents/github.com/ucla-biostat-257/2025spring/slides/20-eigsvd`\n"
     ]
    },
    {
     "name": "stdout",
     "output_type": "stream",
     "text": [
      "\u001b[32m\u001b[1mStatus\u001b[22m\u001b[39m `~/Documents/github.com/ucla-biostat-257/2025spring/slides/20-eigsvd/Project.toml`\n",
      "  \u001b[90m[7d9fca2a] \u001b[39mArpack v0.5.4\n",
      "  \u001b[90m[6e4b80f9] \u001b[39mBenchmarkTools v1.6.0\n",
      "  \u001b[90m[b51810bb] \u001b[39mMatrixDepot v1.0.13\n",
      "  \u001b[90m[b8865327] \u001b[39mUnicodePlots v3.7.2\n",
      "  \u001b[90m[37e2e46d] \u001b[39mLinearAlgebra v1.11.0\n",
      "  \u001b[90m[9a3f8284] \u001b[39mRandom v1.11.0\n",
      "  \u001b[90m[2f01184e] \u001b[39mSparseArrays v1.11.0\n"
     ]
    }
   ],
   "source": [
    "using Pkg\n",
    "\n",
    "Pkg.activate(pwd())\n",
    "Pkg.instantiate()\n",
    "Pkg.status()"
   ]
  },
  {
   "cell_type": "markdown",
   "metadata": {},
   "source": [
    "# Introduction\n",
    "\n",
    "Our last topic on numerical linear algebra is eigen-decomposition and singular value decomposition (SVD). We already saw the wide applications of QR decomposition in least squares problem and solving square and under-determined linear equations. Eigen-decomposition and SVD can be deemed as more thorough orthogonalization of a matrix. We start with a brief review of the related linear algebra.\n",
    "\n",
    "## Linear algebra review: eigen-decomposition\n",
    "\n",
    "For a quick review of eigen-decomposition, see [Biostat 216 slides](https://ucla-biostat-216.github.io/2024fall/slides/10-eig/10-eig.html).\n",
    "\n",
    "* **Eigenvalues** are defined as roots of the characteristic equation $\\det(\\lambda \\mathbf{I}_n - \\mathbf{A})=0$.\n",
    "\n",
    "* If $\\lambda$ is an eigenvalue of $\\mathbf{A}$, then there exist non-zero $\\mathbf{x}, \\mathbf{y} \\in \\mathbb{R}^n$ such that $\\mathbf{A} \\mathbf{x} = \\lambda \\mathbf{x}$ and $\\mathbf{y}^T \\mathbf{A} = \\lambda \\mathbf{y}^T$. $\\mathbf{x}$ and $\\mathbf{y}$ are called the (column) **eigenvector** and **row eigenvector** of $\\mathbf{A}$ associated with the eigenvalue $\\lambda$.\n",
    "\n",
    "* $\\mathbf{A}$ is singular if and only if it has at least one 0 eigenvalue.\n",
    "\n",
    "* Eigenvectors associated with distinct eigenvalues are linearly independent.\n",
    "\n",
    "* Eigenvalues of an upper or lower triangular matrix are its diagonal entries: $\\lambda_i = a_{ii}$.\n",
    "\n",
    "* Eigenvalues of an idempotent matrix are either 0 or 1.\n",
    "\n",
    "* Eigenvalues of an orthogonal matrix have complex modulus 1.\n",
    "\n",
    "* In most statistical applications, we deal with eigenvalues/eigenvectors of symmetric matrices. \n",
    "The eigenvalues and eigenvectors of a real **symmetric** matrix are real.\n",
    "\n",
    "* Eigenvectors associated with distinct eigenvalues of a symmetry matrix are orthogonal.\n",
    "\n",
    "* **Eigen-decompostion of a symmetric matrix**: $\\mathbf{A} = \\mathbf{U} \\Lambda \\mathbf{U}^T$, where\n",
    "    * $\\Lambda = \\text{diag}(\\lambda_1,\\ldots,\\lambda_n)$\n",
    "    * columns of $\\mathbf{U}$ are the eigenvectors, which are (or can be chosen to be) mutually orthonormal. Thus $\\mathbf{U}$ is an orthogonal matrix.\n",
    "\n",
    "* A real symmetric matrix is positive semidefinite (positive definite) if and only if all eigenvalues are nonnegative (positive).\n",
    "\n",
    "* **Spectral radius** $\\rho(\\mathbf{A}) = \\max_i |\\lambda_i|$.\n",
    "\n",
    "* $\\mathbf{A} \\in \\mathbb{R}^{n \\times n}$ a square matrix (not required to be symmetric), then $\\text{tr}(\\mathbf{A}) = \\sum_i \\lambda_i$ and $\\det(\\mathbf{A}) = \\prod_i \\lambda_i$.\n",
    "\n",
    "## Linear algebra review: singular value decomposition (SVD)\n",
    "\n",
    "For a quick review of SVD, see [Biostat 216 slides](https://ucla-biostat-216.github.io/2024fall/slides/12-svd/12-svd.html).\n",
    "\n",
    "* **Singular value decomposition (SVD)**: For a rectangular matrix $\\mathbf{A} \\in \\mathbb{R}^{m \\times n}$, let $p = \\min\\{m,n\\}$, then we have the SVD\n",
    "$$\n",
    "\\mathbf{A} = \\mathbf{U} \\Sigma \\mathbf{V}^T,\n",
    "$$\n",
    "where\n",
    "    * $\\mathbf{U} = (\\mathbf{u}_1,\\ldots,\\mathbf{u}_m) \\in \\mathbb{R}^{m \\times m}$ is orthogonal\n",
    "    * $\\mathbf{V} = (\\mathbf{v}_1,\\ldots,\\mathbf{v}_n) \\in \\mathbb{R}^{n \\times n}$ is orthogonal\n",
    "    * $\\Sigma = \\text{diag}(\\sigma_1, \\ldots, \\sigma_p)  \\in \\mathbb{R}^{m \\times n}$, $\\sigma_1 \\ge \\sigma_2 \\ge \\cdots \\ge \\sigma_p \\ge 0$.  \n",
    "$\\sigma_i$ are called the **singular values**, $\\mathbf{u}_i$ are the **left singular vectors**, and $\\mathbf{v}_i$ are the **right singular vectors**.\n",
    "\n",
    "* **Thin/Skinny SVD**. Assume $m \\ge n$. $\\mathbf{A}$ can be factored as \n",
    "$$\n",
    "\\mathbf{A} = \\mathbf{U}_n \\Sigma_n \\mathbf{V}^T = \\sum_{i=1}^n \\sigma_i \\mathbf{u}_i \\mathbf{v}_i^T,\n",
    "$$ \n",
    "where \n",
    "    * $\\mathbf{U}_n \\in \\mathbb{R}^{m \\times n}$, $\\mathbf{U}_n^T \\mathbf{U}_n = \\mathbf{I}_n$\n",
    "    * $\\mathbf{V} \\in \\mathbb{R}^{n \\times n}$, $\\mathbf{V}^T \\mathbf{V} = \\mathbf{I}_n$\n",
    "    * $\\Sigma_n = \\text{diag}(\\sigma_1,\\ldots,\\sigma_n) \\in \\mathbb{R}^{n \\times n}$, $\\sigma_1 \\ge \\sigma_2 \\ge \\cdots \\ge \\sigma_n \\ge 0$\n",
    "    \n",
    "* Denote $\\sigma(\\mathbf{A})=(\\sigma_1,\\ldots,\\sigma_p)^T$. Then \n",
    "    * $r = \\text{rank}(\\mathbf{A}) = \\# \\text{ nonzero singular values} = \\|\\sigma(\\mathbf{A})\\|_0$  \n",
    "    * $\\mathbf{A} = \\mathbf{U}_r \\Sigma_r \\mathbf{V}_r^T = \\sum_{i=1}^r \\sigma_i \\mathbf{u}_i \\mathbf{v}_i^T$\n",
    "    * $\\|\\mathbf{A}\\|_{\\text{F}} = (\\sum_{i=1}^p \\sigma_i^2)^{1/2} = \\|\\sigma(\\mathbf{A})\\|_2$\n",
    "    * $\\|\\mathbf{A}\\|_2 = \\sigma_1 = \\|\\sigma(\\mathbf{A})\\|_\\infty$\n",
    "\n",
    "* Assume $\\text{rank}(\\mathbf{A}) = r$ and partition \n",
    "$$\n",
    "\\begin{eqnarray*}\n",
    "\\mathbf{U} &=& (\\mathbf{U}_r, \\tilde{\\mathbf{U}}_r) \\in \\mathbb{R}^{m \\times m} \\\\\n",
    "\\mathbf{V} &=& (\\mathbf{V}_r, \\tilde{\\mathbf{V}}_r) \\in \\mathbb{R}^{n \\times n}.\n",
    "\\end{eqnarray*}\n",
    "$$\n",
    "Then\n",
    "    * ${\\cal C}(\\mathbf{A}) = {\\cal C}(\\mathbf{U}_r)$, ${\\cal N}(\\mathbf{A}^T) = {\\cal C}(\\tilde{\\mathbf{U}}_r)$\n",
    "    * ${\\cal N}(\\mathbf{A}) = {\\cal C}(\\tilde{\\mathbf{V}}_r)$, ${\\cal C}(\\mathbf{A}^T) = {\\cal C}(\\mathbf{V}_r)$\n",
    "    * $\\mathbf{U}_r \\mathbf{U}_r^T$ is the orthogonal projection onto ${\\cal C}(\\mathbf{A})$\n",
    "    * $\\tilde{\\mathbf{U}}_r \\tilde{\\mathbf{U}}_r^T$ is the orthogonal projection onto ${\\cal N}(\\mathbf{A}^T)$\n",
    "    * $\\mathbf{V}_r \\mathbf{V}_r^T$ is the orthogonal projection onto ${\\cal C}(\\mathbf{A}^T)$\n",
    "    * $\\tilde{\\mathbf{V}}_r \\tilde{\\mathbf{V}}_r^T$ is the orthogonal projection onto ${\\cal N}(\\mathbf{A})$\n",
    "\n",
    "* Relation to eigen-decomposition. Using thin SVD,\n",
    "$$\n",
    "\\begin{eqnarray*}\n",
    "\t\\mathbf{A}^T \\mathbf{A} &=& \\mathbf{V} \\Sigma \\mathbf{U}^T \\mathbf{U} \\Sigma \\mathbf{V}^T = \\mathbf{V} \\Sigma^2 \\mathbf{V}^T \\\\\n",
    "\t\\mathbf{A} \\mathbf{A}^T &=& \\mathbf{U} \\Sigma \\mathbf{V}^T \\mathbf{V} \\Sigma \\mathbf{U}^T = \\mathbf{U} \\Sigma^2 \\mathbf{U}^T.\n",
    "\\end{eqnarray*}\n",
    "$$\n",
    "In principle we can obtain singular triplets of $\\mathbf{A}$ by doing two eigen-decompositions.\n",
    "\n",
    "* Another relation to eigen-decomposition. Using thin SVD,\n",
    "$$\n",
    "\\begin{eqnarray*}\n",
    "\t\\begin{pmatrix} \\mathbf{0}_{n \\times n} & \\mathbf{A}^T \\\\ \\mathbf{A} & \\mathbf{0}_{m \\times m} \\end{pmatrix} = \\frac{1}{\\sqrt 2} \\begin{pmatrix} \\mathbf{V} & \\mathbf{V} \\\\ \\mathbf{U} & -\\mathbf{U} \\end{pmatrix} \\begin{pmatrix} \\Sigma & \\mathbf{0}_{n \\times n} \\\\ \\mathbf{0}_{n \\times n} & - \\Sigma \\end{pmatrix} \\frac{1}{\\sqrt 2} \\begin{pmatrix} \\mathbf{V}^T & \\mathbf{U}^T \\\\ \\mathbf{V}^T & - \\mathbf{U}^T \\end{pmatrix}.\n",
    "\\end{eqnarray*}\n",
    "$$\n",
    "Hence any symmetric eigen-solver can produce the SVD of a matrix $\\mathbf{A}$ without forming $\\mathbf{A} \\mathbf{A}^T$ or $\\mathbf{A}^T \\mathbf{A}$.\n",
    "\n",
    "* Yet another relation to eigen-decomposition: If the eigen-decomposition of a real symmetric matrix is $\\mathbf{A} = \\mathbf{W} \\Lambda \\mathbf{W}^T = \\mathbf{W} \\text{diag}(\\lambda_1, \\ldots, \\lambda_n) \\mathbf{W}^T$, then\n",
    "$$\n",
    "\\begin{eqnarray*}\n",
    "\t\\mathbf{A} = \\mathbf{W} \\Lambda \\mathbf{W}^T = \\mathbf{W} \\begin{pmatrix} \n",
    "\t|\\lambda_1| & & \\\\\n",
    "\t& \\ddots & \\\\\n",
    "\t& & |\\lambda_n|\n",
    "\t\\end{pmatrix} \\begin{pmatrix} \n",
    "\t\\text{sgn}(\\lambda_1) & & \\\\\n",
    "\t& \\ddots & \\\\\n",
    "\t& & \\text{sgn}(\\lambda_n)\n",
    "\t\\end{pmatrix} \\mathbf{W}^T\n",
    "\\end{eqnarray*}\n",
    "$$\n",
    "is the SVD of $\\mathbf{A}$.\n",
    "\n",
    "## Applications of eigen-decomposition and SVD\n",
    "\n",
    "\n",
    "### Principal components analysis (PCA). \n",
    "\n",
    "$\\mathbf{X} \\in \\mathbb{R}^{n \\times p}$ is a centered data matrix. Perform SVD $\\mathbf{X} = \\mathbf{U} \\Sigma \\mathbf{V}^T$ or equivalently eigendecomposition $\\mathbf{X}^T \\mathbf{X} = \\mathbf{V} \\Sigma^2 \\mathbf{V}^T$. The linear combinations $\\tilde{\\mathbf{x}}_i = \\mathbf{X} \\mathbf{v}_i$ are the **principal components** (PC) and have variance $\\sigma_i^2$.\n",
    "\n",
    "* Dimension reduction: reduce dimensionality $p$ to $q \\ll p$. Use top PCs $\\tilde{\\mathbf{x}}_1, \\ldots, \\tilde{\\mathbf{x}}_q$ in visualization and downstream analysis.\n",
    "\n",
    "<img src=\"https://media.springernature.com/full/springer-static/image/art%3A10.1038%2Fnature07331/MediaObjects/41586_2008_Article_BFnature07331_Fig1_HTML.jpg\" width=\"400\" align=\"center\"/>\n",
    "\n",
    "Above picture is from the article [Genes mirror geography within Europe](http://www.nature.com/nature/journal/v456/n7218/full/nature07331.html) by Novembre et al (2008) published in _Nature_.  \n",
    "\n",
    "* Use PCs to adjust for confounding - a serious issue in association studies in large data sets.\n",
    "    * Use of PCA to adjust for confounding in modern genetic studies is proposed in the paper [Principal components analysis corrects for stratification in genome-wide association studies](http://www.nature.com/ng/journal/v38/n8/full/ng1847.html) by Price et al (2006) published in _Nature Genetics_. It has been cited 6,937 times as of May 3, 2019.\n",
    "    \n",
    "### Low rank approximation\n",
    "\n",
    "For example, image/data compression. Find a low rank approximation of data matrix $\\mathbf{x}$.  \n",
    "**Eckart-Young theorem**: \n",
    "$$\n",
    "\\min_{\\text{rank}(\\mathbf{Y})=r} \\|\\mathbf{X} - \\mathbf{Y} \\|_{\\text{F}}^2\n",
    "$$\n",
    "is achieved by $\\mathbf{Y} = \\sum_{i=1}^r \\sigma_i \\mathbf{u}_i \\mathbf{v}_i^T$ with optimal value $\\sum_{i=r}^{p} \\sigma_i^2$, where $(\\sigma_i, \\mathbf{u}_i, \\mathbf{v}_i)$ are singular values and vectors of $\\mathbf{X}$.\n",
    "\n",
    "* Gene Golub's $897 \\times 598$ picture requires $3 \\times 897 \\times 598 \\times 8 = 12,873,744$ bytes (3 RGB channels).  \n",
    "* Rank 120 approximation (left picture) requires $3 \\times 120 \\times (897 + 598) \\times 8 = 4,305,600$ bytes.  \n",
    "* Rank 50 approximation (middle picture) requires $3 \\times 50 \\times (897 + 598) \\times 8 = 1,794,000$ bytes. \n",
    "* Rank 12 approximation (right picture) requires $3 \\times 12 \\times (2691+598) \\times 8 = 430,560$ bytes.\n",
    "\n",
    "<img src=\"./golub_rank_120.jpg\" width=\"150\" align=\"center\"/>\n",
    "\n",
    "<img src=\"./golub_rank_50.jpg\" width=\"150\" align=\"center\"/>\n",
    "\n",
    "<img src=\"./golub_rank_12.jpg\" width=\"150\" align=\"center\"/>\n",
    "\n",
    "### Moore-Penrose (MP) inverse\n",
    "\n",
    "Using thin SVD, \n",
    "$$\n",
    "\\mathbf{A}^+ = \\mathbf{V} \\Sigma^+ \\mathbf{U}^T,\n",
    "$$\n",
    "where $\\Sigma^+ = \\text{diag}(\\sigma_1^{-1}, \\ldots, \\sigma_r^{-1}, 0, \\ldots, 0)$, $r= \\text{rank}(\\mathbf{A})$. This is how the [`pinv`](https://docs.julialang.org/en/v1/stdlib/LinearAlgebra/#LinearAlgebra.pinv) function is implemented in Julia."
   ]
  },
  {
   "cell_type": "code",
   "execution_count": 20,
   "metadata": {},
   "outputs": [
    {
     "data": {
      "text/plain": [
       "3×5 Matrix{Float64}:\n",
       "  0.0988735   0.318497  -0.231216   -0.0909387  0.174323\n",
       "  0.155916   -0.184722   0.0321796  -0.199583   8.53161e-6\n",
       " -0.596784   -0.394648  -0.280529    0.119767   0.627718"
      ]
     },
     "execution_count": 20,
     "metadata": {},
     "output_type": "execute_result"
    }
   ],
   "source": [
    "using Random, LinearAlgebra\n",
    "\n",
    "Random.seed!(257)\n",
    "X = randn(5, 3)\n",
    "pinv(X)"
   ]
  },
  {
   "cell_type": "code",
   "execution_count": 21,
   "metadata": {},
   "outputs": [
    {
     "data": {
      "text/html": [
       "pinv(A::<b>AbstractMatrix{T}</b>; <i>atol, rtol</i>)<i> where T</i> in LinearAlgebra at <a href=\"file:///Users/julia/.julia/scratchspaces/a66863c6-20e8-4ff4-8a62-49f30b1f605e/agent-cache/default-honeycrisp-HL2F7YQ3XH.0/build/default-honeycrisp-HL2F7YQ3XH-0/julialang/julia-release-1-dot-11/usr/share/julia/stdlib/v1.11/LinearAlgebra/src/dense.jl\" target=\"_blank\">/Users/huazhou/.julia/juliaup/julia-1.11.5+0.aarch64.apple.darwin14/share/julia/stdlib/v1.11/LinearAlgebra/src/dense.jl:1546</a>"
      ],
      "text/plain": [
       "pinv(\u001b[90mA\u001b[39m::\u001b[1mAbstractMatrix\u001b[22m\u001b[0m{T}; atol, rtol) where T\n",
       "\u001b[90m     @\u001b[39m \u001b[90mLinearAlgebra\u001b[39m \u001b[90m~/.julia/juliaup/julia-1.11.5+0.aarch64.apple.darwin14/share/julia/stdlib/v1.11/LinearAlgebra/src/\u001b[39m\u001b[90m\u001b[4mdense.jl:1546\u001b[24m\u001b[39m"
      ]
     },
     "execution_count": 21,
     "metadata": {},
     "output_type": "execute_result"
    }
   ],
   "source": [
    "# calculation of Moore-Penrose inverse by SVD\n",
    "@which pinv(X)"
   ]
  },
  {
   "cell_type": "markdown",
   "metadata": {},
   "source": [
    "### Least squares\n",
    "\n",
    "Given thin SVD $\\mathbf{X} = \\mathbf{U} \\Sigma \\mathbf{V}^T$, \n",
    "$$\n",
    "\\begin{eqnarray*}\n",
    "\t\\widehat \\beta &=& (\\mathbf{X}^T \\mathbf{X})^- \\mathbf{X}^T \\mathbf{y} \\\\\n",
    "\t&=& (\\mathbf{V} \\Sigma^2 \\mathbf{V}^T)^+ \\mathbf{V} \\Sigma \\mathbf{U}^T \\mathbf{y} \\\\\n",
    "\t&=& \\mathbf{V} (\\Sigma^{2})^+ \\mathbf{V}^T \\mathbf{V} \\Sigma \\mathbf{U}^T \\mathbf{y} \\\\\n",
    "\t&=& \\mathbf{V}_r \\Sigma_r^{-1} \\mathbf{U}_r^T \\mathbf{y} \\\\\n",
    "\t&=& \\sum_{i=1}^r \\left( \\frac{\\mathbf{u}_i^T \\mathbf{y}}{\\sigma_i} \\right) \\mathbf{v}_i\n",
    "\\end{eqnarray*}\n",
    "$$\n",
    "and\n",
    "$$\n",
    "\\begin{eqnarray*}\n",
    "\t\\widehat{\\mathbf{y}} &=& \\mathbf{X} \\widehat \\beta = \\mathbf{U}_r \\mathbf{U}_r^T \\mathbf{y}.\n",
    "\\end{eqnarray*}\n",
    "$$\n",
    "In general, SVD is more expensive than other approaches (Cholesky, Sweep, QR) we learnt. In some applications, SVD is computed for other purposes then we get least squares solution for free.\n",
    "\n",
    "### Ridge regression\n",
    "\n",
    "* In ridge regression, we minimize\n",
    "$$\n",
    "\t\\|\\mathbf{y} - \\mathbf{X} \\beta\\|_2^2 + \\lambda \\|\\beta\\|_2^2,\n",
    "$$\n",
    "where $\\lambda$ is a tuning parameter.\n",
    "\n",
    "* Ridge regression by augmented linear regression. Ridge regression problem is equivalent to\n",
    "$$\n",
    "\t\\left\\| \\begin{pmatrix} \\mathbf{y} \\\\ \\mathbf{0}_p \\end{pmatrix} - \\begin{pmatrix}\n",
    "\t\\mathbf{X} \\\\ \\sqrt \\lambda \\mathbf{I}_p\n",
    "\t\\end{pmatrix} \\beta \\right\\|_2^2.\n",
    "$$\n",
    "Therefore any methods for linear regression can be applied.\n",
    "\n",
    "* Ridge regression by method of normal equation. The normal equation for the ridge problem is\n",
    "$$\n",
    "\t(\\mathbf{X}^T \\mathbf{X} + \\lambda \\mathbf{I}_p) \\beta = \\mathbf{X}^T \\mathbf{y}.\n",
    "$$\n",
    "Therefore Cholesky or sweep operator can be used.\n",
    "\n",
    "* Ridge regression by SVD. If we obtain the (thin) SVD of $\\mathbf{X}$\n",
    "$$\n",
    "\t\\mathbf{X} = \\mathbf{U} \\Sigma_{p \\times p} \\mathbf{V}^T.\n",
    "$$\n",
    "Then the normal equation reads\n",
    "$$\n",
    "\t(\\Sigma^2 + \\lambda \\mathbf{I}_p) \\mathbf{V}^T \\beta = \\Sigma \\mathbf{U}^T \\mathbf{y}\n",
    "$$\n",
    "and we get\n",
    "$$\n",
    "\t\\widehat \\beta (\\lambda) = \\sum_{i=1}^p \\frac{\\sigma_i \\mathbf{u}_i^T \\mathbf{y}}{\\sigma_i^2 + \\lambda} \\mathbf{v}_i = \\sum_{i=1}^r \\frac{\\sigma_i \\mathbf{u}_i^T \\mathbf{y}}{\\sigma_i^2 + \\lambda} \\mathbf{v}_i, \\quad r = \\text{rank}(\\mathbf{X}).\n",
    "$$\n",
    "It is clear that \n",
    "$$\n",
    "\\begin{eqnarray*}\n",
    "\t\\lim_{\\lambda \\to 0} \\widehat \\beta (\\lambda) = \\widehat \\beta_{\\text{OLS}}\n",
    "\\end{eqnarray*}\n",
    "$$\n",
    "and $\\|\\widehat \\beta (\\lambda)\\|_2$ is monotone decreasing as $\\lambda$ increases.\n",
    "\n",
    "* Only one SVD is needed for all $\\lambda$ (!), in contrast to the method of augmented linear regression, Cholesky, or sweep.\n",
    "\n",
    "### Other applications\n",
    "\n",
    "See Chapters 8-9 of [Numerical Analysis for Statisticians](https://doi.org/10.1007/978-1-4419-5945-4) by Kenneth Lange (2010) for more applications of eigen-decomposition and SVD.\n",
    "\n",
    "## Algorithms for eigen-decomposition\n",
    "\n",
    "### One eigen-pair: power method\n",
    "\n",
    "* **Power method** iterates according to\n",
    "$$\n",
    "\\begin{eqnarray*}\n",
    "\t\\mathbf{x}^{(t)} &\\gets& \\frac{1}{\\|\\mathbf{A} \\mathbf{x}^{(t-1)}\\|_2} \\mathbf{A} \\mathbf{x}^{(t-1)}\n",
    "\\end{eqnarray*}\n",
    "$$\n",
    "from an initial guess $\\mathbf{x}^{(0)}$ of unit norm.\n",
    "\n",
    "* Suppose we arrange $|\\lambda_1| > |\\lambda_2| \\ge \\cdots \\ge |\\lambda_n|$ (the first inequality strict) with corresponding eigenvectors $\\mathbf{u}_i$, and expand $\\mathbf{x}^{(0)} = c_1 \\mathbf{u}_1 + \\cdots + c_n \\mathbf{u}_n$, then\n",
    "$$\n",
    "\\begin{eqnarray*}\n",
    "\t\\mathbf{x}^{(t)} &=& \\frac{\\left( \\sum_i \\lambda_i^t \\mathbf{u}_i \\mathbf{u}_i^T \\right) \\left( \\sum_i c_i \\mathbf{u}_i \\right)}{\\|\\left( \\sum_i \\lambda_i^t \\mathbf{u}_i \\mathbf{u}_i^T \\right) \\left( \\sum_i c_i \\mathbf{u}_i \\right)\\|_2} \\\\\n",
    "\t&=& \\frac{\\sum_i c_i \\lambda_i^t \\mathbf{u}_i}{\\|\\sum_i c_i \\lambda_i^t \\mathbf{u}_i\\|_2}\t\\\\\n",
    "\t&=& \\frac{c_1 \\mathbf{u}_1 + c_2 (\\lambda_2/\\lambda_1)^t \\mathbf{u}_2 + \\cdots + c_n (\\lambda_n/\\lambda_1)^t \\mathbf{u}_n}{\\|c_1 \\mathbf{u}_1 + c_2 (\\lambda_2/\\lambda_1)^t \\mathbf{u}_2 + \\cdots + c_n (\\lambda_n/\\lambda_1)^t \\mathbf{u}_n\\|_2} \\left( \\frac{\\lambda_1}{|\\lambda_1|} \\right)^t.\n",
    "\\end{eqnarray*}\n",
    "$$\n",
    "Thus $\\mathbf{x}^{(t)} - \\frac{c_1 \\mathbf{u}_1}{\\|c_1 \\mathbf{u}_1\\|_2} \\left( \\frac{\\lambda_1}{|\\lambda_1|} \\right)^t \\to 0$ as $t \\to \\infty$. The convergence rate is $|\\lambda_2|/|\\lambda_1|$.\n",
    "\n",
    "* $\\lambda_1^{(t)} = \\mathbf{x}^{(t)T} \\mathbf{A} \\mathbf{x}^{(t)}$ converges to $\\lambda_1$.\n",
    "\n",
    "* **Inverse power method** for finding the eigenvalue of smallest absolute value: Substitute $\\mathbf{A}$ by $\\mathbf{A}^{-1}$ in the power method. (E.g., pre-compute LU or Cholesky of $\\mathbf{A}$).\n",
    "\n",
    "* **Shifted inverse power**: Substitute $(\\mathbf{A} - \\mu \\mathbf{I})^{-1}$ in the power method. It converges to an eigenvalue close to the given $\\mu$.\n",
    "\n",
    "* **Rayleigh quotient iteration**: Substitute $(\\mathbf{A} - \\mu^{(t-1)} \\mathbf{I})^{-1}$, where $\\mu^{(t-1)} = \\mathbf{x}^{(t-1)T} \\mathbf{A} \\mathbf{x}^{(t-1)}$ in the shifted inverse method. Faster convergence.\n",
    "\n",
    "* Example: PageRank problem seeks top left eigenvector of transition matrix $\\mathbf{P}$ and costs $O(n)$ per iteration.\n",
    "\n",
    "### Top $r$ eigen-pairs: orthogonal iteration\n",
    "\n",
    "Generalization of power method to higher dimensional invariant subspace.\n",
    "\n",
    "* **Orthogonal iteration**: Initialize $\\mathbf{Q}^{(0)} \\in \\mathbb{R}^{n \\times r}$ with orthonormal columns. For $t=1,2,\\ldots$, \n",
    "$$\n",
    "\\begin{eqnarray*}\n",
    "\t\\mathbf{Z}^{(t)} &\\gets& \\mathbf{A} \\mathbf{Q}^{(t-1)} \\quad \\text{($2n^2r$ flops)} \\\\\n",
    "\t\\mathbf{Q}^{(t)} \\mathbf{R}^{(t)} &\\gets& \\mathbf{Z}^{(t)} \\quad \\text{(QR factorization)}%, $nr^2 - r^3/3$ flops)}\n",
    "\\end{eqnarray*}\n",
    "$$\n",
    "\n",
    "* $\\mathbf{Z}^{(t)}$ converges to the eigenspace of the largest $r$ eigenvalues if they are real and separated from remaining spectrum. The convergence rate is $|\\lambda_{r+1}|/|\\lambda_r|$.\n",
    "\n",
    "### (Impractical) full eigen-decomposition: QR iteration\n",
    "\n",
    "Assume $\\mathbf{A} \\in \\mathbb{R}^{n \\times n}$ symmetric.\n",
    "\n",
    "*  Take $r=n$ in the orthogonal iteration. Then $\\mathbf{Q}^{(t)}$ converges to the eigenspace $\\mathbf{U}$ of $\\mathbf{A}$. This implies that\n",
    "$$\n",
    "\t\\mathbf{T}^{(t)} := \\mathbf{Q}^{(t)T} \\mathbf{A} \\mathbf{Q}^{(t)}\n",
    "$$\n",
    "converges to a diagonal form $\\Lambda = \\text{diag}(\\lambda_1, \\ldots, \\lambda_n)$.\n",
    "\n",
    "* Note how to compute $\\mathbf{T}^{(t)}$ from $\\mathbf{T}^{(t-1)}$\n",
    "$$\n",
    "\\begin{eqnarray*}\n",
    "\t\\mathbf{T}^{(t-1)} &=& \\mathbf{Q}^{(t-1)T} \\mathbf{A} \\mathbf{Q}^{(t-1)} = \\mathbf{Q}^{(t-1)T} (\\mathbf{A} \\mathbf{Q}^{(t-1)}) = (\\mathbf{Q}^{(t-1)T} \\mathbf{Q}^{(t)}) \\mathbf{R}^{(t)}\t\\\\\\mathbf{A}\n",
    "\t\\mathbf{T}^{(t)} &=& \\mathbf{Q}^{(t)T} \\mathbf{A} \\mathbf{Q}^{(t)} = \\mathbf{Q}^{(t)T} \\mathbf{A} \\mathbf{Q}^{(t-1)} \\mathbf{Q}^{(t-1)T} \\mathbf{Q}^{(t)} = \\mathbf{R}^{(t)} ( \\mathbf{Q}^{(t-1)T} \\mathbf{Q}^{(t)}).\n",
    "\\end{eqnarray*}\n",
    "$$\n",
    "\n",
    "* **QR iteration**: Initialize $\\mathbf{U}^{(0)} \\in \\mathbb{R}^{n \\times n}$ orthogonal and set $\\mathbf{T}^{(0)} = \\mathbf{U}^{(0)T} \\mathbf{A} \\mathbf{U}^{(0)}$. \\\\\n",
    "For $t=1,2,\\ldots$\n",
    "$$\n",
    "\\begin{eqnarray*}\n",
    "\t\\mathbf{U}^{(t)} \\mathbf{R}^{(t)} &\\gets& \\mathbf{T}^{(t-1)} \\quad \\text{(QR factorization)} \\\\\n",
    "\t\\mathbf{T}^{(t)} &\\gets& \\mathbf{R}^{(t)} \\mathbf{U}^{(t)}\n",
    "\\end{eqnarray*}\n",
    "$$\n",
    "\n",
    "* QR iteration is expensive in general: $O(n^3)$ per iteration and linear convergence rate.\n",
    "\n",
    "### QR algorithm for symmetric eigen-decomposition\n",
    "\n",
    "Assume $\\mathbf{A} \\in \\mathbb{R}^{n \\times n}$ symmetric.\n",
    "\n",
    "* Reading: [The QR algorithm](https://ucla-biostat-257.github.io/2025spring/readings/qr.pdf) by Beresford N. Parlett.\n",
    "\n",
    "* This is the algorithm implemented in LAPACK: used by Julia, Matlab, R.\n",
    "\n",
    "<img src=\"./householder_tridiagonalization.png\" width=\"300\" align=\"center\"/>\n",
    "\n",
    "* Idea: Tri-diagonalization (by Householder) + QR iteration on the tri-diagonal system with implicit shift.\n",
    "   \n",
    "   0. Step 1: Householder tri-diagonalization: $4n^3/3$ for eigenvalues only, $8n^3/3$ for both eigenvalues and eigenvectors. (Why can't we apply Householder to make it diagonal directly?)\n",
    "    \n",
    "   0. Step 2: QR iteration on the tridiagonal matrix. Implicit shift accelerates convergence rate. On average 1.3-1.6 QR iteration per eigenvalue, $\\sim 20n$ flops per QR iteration. So total operation count is about $30n^2$. Eigenvectors need an extra of about $6n^3$ flops.\n",
    "\n",
    "| Stage                  | Eigenvalue   | Eigenvector |\n",
    "|------------------------|--------------|-------------|\n",
    "| Householder reduction  | $4n^3/3$     | $4n^3/3$    |\n",
    "| QR with implicit shift | $\\sim 30n^2$ | $\\sim 6n^3$ |\n",
    "\n",
    "* Message: **Don't request eigenvectors unless necessary**. Use [`eigvals`](https://docs.julialang.org/en/v1/stdlib/LinearAlgebra/#LinearAlgebra.eigvals) in Julia to request only eigenvalues.\n",
    "\n",
    "* The **unsymmetric QR algorithm** obtains the real Schur decomposition of an asymmetric matrix $\\mathbf{A}$.\n",
    "\n",
    "### Example\n",
    "\n",
    "Julia functions: [`eigen`](https://docs.julialang.org/en/v1/stdlib/LinearAlgebra/#LinearAlgebra.eigen), [`eigen!`](https://docs.julialang.org/en/v1/stdlib/LinearAlgebra/#LinearAlgebra.eigen!), [`eigvals`](https://docs.julialang.org/en/v1/stdlib/LinearAlgebra/#LinearAlgebra.eigvals!), [`eigvecs`](https://docs.julialang.org/en/v1/stdlib/LinearAlgebra/#LinearAlgebra.eigvecs), [`eigmax`](https://docs.julialang.org/en/v1/stdlib/LinearAlgebra/#LinearAlgebra.eigmax), [`eigmin`](https://docs.julialang.org/en/v1/stdlib/LinearAlgebra/#LinearAlgebra.eigmin)."
   ]
  },
  {
   "cell_type": "code",
   "execution_count": 22,
   "metadata": {},
   "outputs": [
    {
     "data": {
      "text/plain": [
       "Eigen{Float64, Float64, Matrix{Float64}, Vector{Float64}}\n",
       "values:\n",
       "5-element Vector{Float64}:\n",
       " -4.8130345441492555\n",
       " -0.46103087129661\n",
       "  0.32481301094568016\n",
       "  1.2131885185090323\n",
       "  1.5164891808704994\n",
       "vectors:\n",
       "5×5 Matrix{Float64}:\n",
       "  0.319128   -0.0721659  -0.386024  -0.127556   -0.853032\n",
       " -0.638956    0.491914    0.346242   0.140612   -0.458367\n",
       " -0.225483    0.487447   -0.582903  -0.567475    0.223045\n",
       " -0.0416092   0.201261   -0.555784   0.799369    0.0993851\n",
       "  0.661301    0.688986    0.287107   0.0542222   0.0510782"
      ]
     },
     "execution_count": 22,
     "metadata": {},
     "output_type": "execute_result"
    }
   ],
   "source": [
    "Random.seed!(257)\n",
    "A = Symmetric(randn(5, 5), :U)\n",
    "Aeig = eigen(A)"
   ]
  },
  {
   "cell_type": "code",
   "execution_count": 23,
   "metadata": {},
   "outputs": [
    {
     "data": {
      "text/plain": [
       "5-element Vector{Float64}:\n",
       " -4.8130345441492555\n",
       " -0.46103087129661\n",
       "  0.32481301094568016\n",
       "  1.2131885185090323\n",
       "  1.5164891808704994"
      ]
     },
     "execution_count": 23,
     "metadata": {},
     "output_type": "execute_result"
    }
   ],
   "source": [
    "# eigen-values\n",
    "Aeig.values"
   ]
  },
  {
   "cell_type": "code",
   "execution_count": 24,
   "metadata": {},
   "outputs": [
    {
     "data": {
      "text/plain": [
       "5×5 Matrix{Float64}:\n",
       "  0.319128   -0.0721659  -0.386024  -0.127556   -0.853032\n",
       " -0.638956    0.491914    0.346242   0.140612   -0.458367\n",
       " -0.225483    0.487447   -0.582903  -0.567475    0.223045\n",
       " -0.0416092   0.201261   -0.555784   0.799369    0.0993851\n",
       "  0.661301    0.688986    0.287107   0.0542222   0.0510782"
      ]
     },
     "execution_count": 24,
     "metadata": {},
     "output_type": "execute_result"
    }
   ],
   "source": [
    "# eigen-vectors\n",
    "Aeig.vectors"
   ]
  },
  {
   "cell_type": "code",
   "execution_count": 25,
   "metadata": {},
   "outputs": [
    {
     "data": {
      "text/plain": [
       "5×5 Matrix{Float64}:\n",
       "  0.919561   -0.0490756   0.718204   0.554833  -0.311645\n",
       " -0.0490756  -0.0857656  -1.30458   -0.750107  -0.350454\n",
       "  0.718204   -1.30458     0.81837    0.423366  -1.23057\n",
       "  0.554833   -0.750107    0.423366   1.39599   -0.747248\n",
       " -0.311645   -0.350454   -1.23057   -0.747248  -0.862592"
      ]
     },
     "execution_count": 25,
     "metadata": {},
     "output_type": "execute_result"
    }
   ],
   "source": [
    "# inversion by eigen-decomposition\n",
    "inv(Aeig)"
   ]
  },
  {
   "cell_type": "code",
   "execution_count": 26,
   "metadata": {},
   "outputs": [
    {
     "data": {
      "text/html": [
       "inv(A::<b>Eigen</b>) in LinearAlgebra at <a href=\"file:///Users/julia/.julia/scratchspaces/a66863c6-20e8-4ff4-8a62-49f30b1f605e/agent-cache/default-honeycrisp-HL2F7YQ3XH.0/build/default-honeycrisp-HL2F7YQ3XH-0/julialang/julia-release-1-dot-11/usr/share/julia/stdlib/v1.11/LinearAlgebra/src/eigen.jl\" target=\"_blank\">/Users/huazhou/.julia/juliaup/julia-1.11.5+0.aarch64.apple.darwin14/share/julia/stdlib/v1.11/LinearAlgebra/src/eigen.jl:440</a>"
      ],
      "text/plain": [
       "inv(\u001b[90mA\u001b[39m::\u001b[1mEigen\u001b[22m)\n",
       "\u001b[90m     @\u001b[39m \u001b[90mLinearAlgebra\u001b[39m \u001b[90m~/.julia/juliaup/julia-1.11.5+0.aarch64.apple.darwin14/share/julia/stdlib/v1.11/LinearAlgebra/src/\u001b[39m\u001b[90m\u001b[4meigen.jl:440\u001b[24m\u001b[39m"
      ]
     },
     "execution_count": 26,
     "metadata": {},
     "output_type": "execute_result"
    }
   ],
   "source": [
    "@which inv(Aeig)"
   ]
  },
  {
   "cell_type": "code",
   "execution_count": 27,
   "metadata": {},
   "outputs": [
    {
     "data": {
      "text/plain": [
       "1.3260198068197506"
      ]
     },
     "execution_count": 27,
     "metadata": {},
     "output_type": "execute_result"
    }
   ],
   "source": [
    "# determinant by eigen-decomposition\n",
    "det(Aeig)"
   ]
  },
  {
   "cell_type": "code",
   "execution_count": 28,
   "metadata": {},
   "outputs": [
    {
     "data": {
      "text/html": [
       "det(A::<b>Eigen</b>) in LinearAlgebra at <a href=\"file:///Users/julia/.julia/scratchspaces/a66863c6-20e8-4ff4-8a62-49f30b1f605e/agent-cache/default-honeycrisp-HL2F7YQ3XH.0/build/default-honeycrisp-HL2F7YQ3XH-0/julialang/julia-release-1-dot-11/usr/share/julia/stdlib/v1.11/LinearAlgebra/src/eigen.jl\" target=\"_blank\">/Users/huazhou/.julia/juliaup/julia-1.11.5+0.aarch64.apple.darwin14/share/julia/stdlib/v1.11/LinearAlgebra/src/eigen.jl:441</a>"
      ],
      "text/plain": [
       "det(\u001b[90mA\u001b[39m::\u001b[1mEigen\u001b[22m)\n",
       "\u001b[90m     @\u001b[39m \u001b[90mLinearAlgebra\u001b[39m \u001b[90m~/.julia/juliaup/julia-1.11.5+0.aarch64.apple.darwin14/share/julia/stdlib/v1.11/LinearAlgebra/src/\u001b[39m\u001b[90m\u001b[4meigen.jl:441\u001b[24m\u001b[39m"
      ]
     },
     "execution_count": 28,
     "metadata": {},
     "output_type": "execute_result"
    }
   ],
   "source": [
    "@which det(Aeig)"
   ]
  },
  {
   "cell_type": "code",
   "execution_count": 29,
   "metadata": {},
   "outputs": [
    {
     "data": {
      "text/html": [
       "eigvals(A::<b>Union{Hermitian{T, S}, Hermitian{Complex{T}, S}, Symmetric{T, S}} where {T<:Real, S}</b>; <i>sortby</i>) in LinearAlgebra at <a href=\"file:///Users/julia/.julia/scratchspaces/a66863c6-20e8-4ff4-8a62-49f30b1f605e/agent-cache/default-honeycrisp-HL2F7YQ3XH.0/build/default-honeycrisp-HL2F7YQ3XH-0/julialang/julia-release-1-dot-11/usr/share/julia/stdlib/v1.11/LinearAlgebra/src/symmetriceigen.jl\" target=\"_blank\">/Users/huazhou/.julia/juliaup/julia-1.11.5+0.aarch64.apple.darwin14/share/julia/stdlib/v1.11/LinearAlgebra/src/symmetriceigen.jl:72</a>"
      ],
      "text/plain": [
       "eigvals(\u001b[90mA\u001b[39m::\u001b[1mUnion\u001b[22m\u001b[0m{Hermitian{T, S}, Hermitian{Complex{T}, S}, Symmetric{T, S}} where {T<:Real, S}; sortby)\n",
       "\u001b[90m     @\u001b[39m \u001b[90mLinearAlgebra\u001b[39m \u001b[90m~/.julia/juliaup/julia-1.11.5+0.aarch64.apple.darwin14/share/julia/stdlib/v1.11/LinearAlgebra/src/\u001b[39m\u001b[90m\u001b[4msymmetriceigen.jl:72\u001b[24m\u001b[39m"
      ]
     },
     "execution_count": 29,
     "metadata": {},
     "output_type": "execute_result"
    }
   ],
   "source": [
    "@which eigvals(A)"
   ]
  },
  {
   "cell_type": "code",
   "execution_count": 30,
   "metadata": {},
   "outputs": [
    {
     "data": {
      "text/html": [
       "eigmax(A::<b>Union{Hermitian{var\"#s5029\", S}, Hermitian{Complex{var\"#s5029\"}, S}, Symmetric{var\"#s5029\", S}} where {var\"#s5029\"<:Real, S}</b>) in LinearAlgebra at <a href=\"file:///Users/julia/.julia/scratchspaces/a66863c6-20e8-4ff4-8a62-49f30b1f605e/agent-cache/default-honeycrisp-HL2F7YQ3XH.0/build/default-honeycrisp-HL2F7YQ3XH-0/julialang/julia-release-1-dot-11/usr/share/julia/stdlib/v1.11/LinearAlgebra/src/symmetriceigen.jl\" target=\"_blank\">/Users/huazhou/.julia/juliaup/julia-1.11.5+0.aarch64.apple.darwin14/share/julia/stdlib/v1.11/LinearAlgebra/src/symmetriceigen.jl:156</a>"
      ],
      "text/plain": [
       "eigmax(\u001b[90mA\u001b[39m::\u001b[1mUnion\u001b[22m\u001b[0m{Hermitian{var\"#s5029\", S}, Hermitian{Complex{var\"#s5029\"}, S}, Symmetric{var\"#s5029\", S}} where {var\"#s5029\"<:Real, S})\n",
       "\u001b[90m     @\u001b[39m \u001b[90mLinearAlgebra\u001b[39m \u001b[90m~/.julia/juliaup/julia-1.11.5+0.aarch64.apple.darwin14/share/julia/stdlib/v1.11/LinearAlgebra/src/\u001b[39m\u001b[90m\u001b[4msymmetriceigen.jl:156\u001b[24m\u001b[39m"
      ]
     },
     "execution_count": 30,
     "metadata": {},
     "output_type": "execute_result"
    }
   ],
   "source": [
    "@which eigmax(A)"
   ]
  },
  {
   "cell_type": "code",
   "execution_count": 31,
   "metadata": {},
   "outputs": [
    {
     "data": {
      "text/html": [
       "eigmin(A::<b>Union{Hermitian{var\"#s5029\", S}, Hermitian{Complex{var\"#s5029\"}, S}, Symmetric{var\"#s5029\", S}} where {var\"#s5029\"<:Real, S}</b>) in LinearAlgebra at <a href=\"file:///Users/julia/.julia/scratchspaces/a66863c6-20e8-4ff4-8a62-49f30b1f605e/agent-cache/default-honeycrisp-HL2F7YQ3XH.0/build/default-honeycrisp-HL2F7YQ3XH-0/julialang/julia-release-1-dot-11/usr/share/julia/stdlib/v1.11/LinearAlgebra/src/symmetriceigen.jl\" target=\"_blank\">/Users/huazhou/.julia/juliaup/julia-1.11.5+0.aarch64.apple.darwin14/share/julia/stdlib/v1.11/LinearAlgebra/src/symmetriceigen.jl:157</a>"
      ],
      "text/plain": [
       "eigmin(\u001b[90mA\u001b[39m::\u001b[1mUnion\u001b[22m\u001b[0m{Hermitian{var\"#s5029\", S}, Hermitian{Complex{var\"#s5029\"}, S}, Symmetric{var\"#s5029\", S}} where {var\"#s5029\"<:Real, S})\n",
       "\u001b[90m     @\u001b[39m \u001b[90mLinearAlgebra\u001b[39m \u001b[90m~/.julia/juliaup/julia-1.11.5+0.aarch64.apple.darwin14/share/julia/stdlib/v1.11/LinearAlgebra/src/\u001b[39m\u001b[90m\u001b[4msymmetriceigen.jl:157\u001b[24m\u001b[39m"
      ]
     },
     "execution_count": 31,
     "metadata": {},
     "output_type": "execute_result"
    }
   ],
   "source": [
    "@which eigmin(A)"
   ]
  },
  {
   "cell_type": "markdown",
   "metadata": {},
   "source": [
    "Don't request eigenvectors unless needed."
   ]
  },
  {
   "cell_type": "code",
   "execution_count": 32,
   "metadata": {},
   "outputs": [
    {
     "data": {
      "text/plain": [
       "1000×1000 Symmetric{Float64, Matrix{Float64}}:\n",
       "  0.679063     0.332797    -0.653289  …   0.345392   -0.998213   -0.951134\n",
       "  0.332797     0.436102     1.49444      -0.789336    0.75036    -0.516564\n",
       " -0.653289     1.49444      1.34202      -0.991247    1.63252     2.12827\n",
       " -0.82661     -0.465615     0.906472      0.510068   -2.71241     1.11543\n",
       "  0.540061    -0.481846    -0.979655     -0.911507    1.17392    -1.66197\n",
       " -1.15444      0.0270945   -1.27159   …   0.401928   -2.12306     0.328807\n",
       " -0.632041     0.646783     0.338353     -2.05924     0.909349   -0.679025\n",
       " -0.530583    -0.188264    -1.54447      -0.0576537  -0.595101    1.04481\n",
       "  0.155341     0.347943     0.151849     -0.137716    0.0983765   2.71592\n",
       "  0.421827     0.716172    -1.38972      -0.767743    0.714005    0.813347\n",
       " -1.20981      1.03763     -0.460989  …   0.339271    0.580433    0.928768\n",
       "  2.16776      0.00718721  -0.073156      0.638743   -0.688001    0.90287\n",
       " -1.04097      0.0705441    0.101913      0.734761    1.12327    -1.54073\n",
       "  ⋮                                   ⋱                          \n",
       " -0.384356     2.2138       1.20398      -1.32848     0.767769   -0.864318\n",
       "  0.120466    -1.07633      0.396145      1.03074     0.690214    1.21592\n",
       " -0.704757     0.114023     0.344196  …  -0.105453    0.739746    0.344411\n",
       " -0.470004    -0.117911     0.333466     -0.725911   -1.35309     0.769405\n",
       "  0.00348333  -0.0650833    1.31532       0.251737    0.548617   -0.736874\n",
       "  0.444516    -1.61675     -1.49825      -0.18952    -1.82047     0.423086\n",
       " -1.1734      -1.78893     -0.509562     -0.575973   -2.04194     0.522166\n",
       " -1.71291      0.216751    -2.20851   …   0.985157   -0.409898   -1.56882\n",
       "  1.6782       0.179331     0.257866     -1.02519    -0.611948   -0.575413\n",
       "  0.345392    -0.789336    -0.991247      0.971047    0.0458168   0.692222\n",
       " -0.998213     0.75036      1.63252       0.0458168  -2.10235    -1.12358\n",
       " -0.951134    -0.516564     2.12827       0.692222   -1.12358    -1.35196"
      ]
     },
     "execution_count": 32,
     "metadata": {},
     "output_type": "execute_result"
    }
   ],
   "source": [
    "using BenchmarkTools, Random, LinearAlgebra\n",
    "\n",
    "Random.seed!(257)\n",
    "n = 1000\n",
    "A = Symmetric(randn(n, n), :U)"
   ]
  },
  {
   "cell_type": "code",
   "execution_count": 33,
   "metadata": {},
   "outputs": [
    {
     "data": {
      "text/plain": [
       "BenchmarkTools.Trial: 126 samples with 1 evaluation per sample.\n",
       " Range \u001b[90m(\u001b[39m\u001b[36m\u001b[1mmin\u001b[22m\u001b[39m … \u001b[35mmax\u001b[39m\u001b[90m):  \u001b[39m\u001b[36m\u001b[1m37.218 ms\u001b[22m\u001b[39m … \u001b[35m56.384 ms\u001b[39m  \u001b[90m┊\u001b[39m GC \u001b[90m(\u001b[39mmin … max\u001b[90m): \u001b[39m0.00% … 0.00%\n",
       " Time  \u001b[90m(\u001b[39m\u001b[34m\u001b[1mmedian\u001b[22m\u001b[39m\u001b[90m):     \u001b[39m\u001b[34m\u001b[1m39.072 ms              \u001b[22m\u001b[39m\u001b[90m┊\u001b[39m GC \u001b[90m(\u001b[39mmedian\u001b[90m):    \u001b[39m0.00%\n",
       " Time  \u001b[90m(\u001b[39m\u001b[32m\u001b[1mmean\u001b[22m\u001b[39m ± \u001b[32mσ\u001b[39m\u001b[90m):   \u001b[39m\u001b[32m\u001b[1m39.876 ms\u001b[22m\u001b[39m ± \u001b[32m 2.614 ms\u001b[39m  \u001b[90m┊\u001b[39m GC \u001b[90m(\u001b[39mmean ± σ\u001b[90m):  \u001b[39m1.02% ± 1.38%\n",
       "\n",
       "  \u001b[39m \u001b[39m \u001b[39m \u001b[39m▄\u001b[39m█\u001b[39m█\u001b[39m▂\u001b[39m▅\u001b[39m▅\u001b[34m▃\u001b[39m\u001b[39m \u001b[39m▃\u001b[39m▂\u001b[32m▂\u001b[39m\u001b[39m \u001b[39m \u001b[39m \u001b[39m \u001b[39m \u001b[39m \u001b[39m \u001b[39m \u001b[39m \u001b[39m \u001b[39m \u001b[39m \u001b[39m \u001b[39m \u001b[39m \u001b[39m \u001b[39m \u001b[39m \u001b[39m \u001b[39m \u001b[39m \u001b[39m \u001b[39m \u001b[39m \u001b[39m \u001b[39m \u001b[39m \u001b[39m \u001b[39m \u001b[39m \u001b[39m \u001b[39m \u001b[39m \u001b[39m \u001b[39m \u001b[39m \u001b[39m \u001b[39m \u001b[39m \u001b[39m \u001b[39m \u001b[39m \u001b[39m \u001b[39m \u001b[39m \u001b[39m \u001b[39m \n",
       "  \u001b[39m▅\u001b[39m▇\u001b[39m▇\u001b[39m█\u001b[39m█\u001b[39m█\u001b[39m█\u001b[39m█\u001b[39m█\u001b[34m█\u001b[39m\u001b[39m▇\u001b[39m█\u001b[39m█\u001b[32m█\u001b[39m\u001b[39m▅\u001b[39m▁\u001b[39m▅\u001b[39m▇\u001b[39m▅\u001b[39m▃\u001b[39m▅\u001b[39m▃\u001b[39m▅\u001b[39m▅\u001b[39m▁\u001b[39m▆\u001b[39m▁\u001b[39m▃\u001b[39m▁\u001b[39m▁\u001b[39m▃\u001b[39m▃\u001b[39m▃\u001b[39m▁\u001b[39m▁\u001b[39m▁\u001b[39m▁\u001b[39m▁\u001b[39m▃\u001b[39m▁\u001b[39m▁\u001b[39m▃\u001b[39m▁\u001b[39m▃\u001b[39m▅\u001b[39m▁\u001b[39m▁\u001b[39m▁\u001b[39m▁\u001b[39m▁\u001b[39m▁\u001b[39m▁\u001b[39m▁\u001b[39m▁\u001b[39m▁\u001b[39m▁\u001b[39m▁\u001b[39m▁\u001b[39m▃\u001b[39m \u001b[39m▃\n",
       "  37.2 ms\u001b[90m         Histogram: frequency by time\u001b[39m        49.6 ms \u001b[0m\u001b[1m<\u001b[22m\n",
       "\n",
       " Memory estimate\u001b[90m: \u001b[39m\u001b[33m8.06 MiB\u001b[39m, allocs estimate\u001b[90m: \u001b[39m\u001b[33m21\u001b[39m."
      ]
     },
     "execution_count": 33,
     "metadata": {},
     "output_type": "execute_result"
    }
   ],
   "source": [
    "# requesting eigenvalues only is cheaper\n",
    "@benchmark eigvals($A)"
   ]
  },
  {
   "cell_type": "code",
   "execution_count": 34,
   "metadata": {},
   "outputs": [
    {
     "data": {
      "text/plain": [
       "BenchmarkTools.Trial: 35 samples with 1 evaluation per sample.\n",
       " Range \u001b[90m(\u001b[39m\u001b[36m\u001b[1mmin\u001b[22m\u001b[39m … \u001b[35mmax\u001b[39m\u001b[90m):  \u001b[39m\u001b[36m\u001b[1m123.126 ms\u001b[22m\u001b[39m … \u001b[35m221.490 ms\u001b[39m  \u001b[90m┊\u001b[39m GC \u001b[90m(\u001b[39mmin … max\u001b[90m): \u001b[39m0.00% … 0.63%\n",
       " Time  \u001b[90m(\u001b[39m\u001b[34m\u001b[1mmedian\u001b[22m\u001b[39m\u001b[90m):     \u001b[39m\u001b[34m\u001b[1m128.722 ms               \u001b[22m\u001b[39m\u001b[90m┊\u001b[39m GC \u001b[90m(\u001b[39mmedian\u001b[90m):    \u001b[39m0.97%\n",
       " Time  \u001b[90m(\u001b[39m\u001b[32m\u001b[1mmean\u001b[22m\u001b[39m ± \u001b[32mσ\u001b[39m\u001b[90m):   \u001b[39m\u001b[32m\u001b[1m143.537 ms\u001b[22m\u001b[39m ± \u001b[32m 28.359 ms\u001b[39m  \u001b[90m┊\u001b[39m GC \u001b[90m(\u001b[39mmean ± σ\u001b[90m):  \u001b[39m0.82% ± 0.61%\n",
       "\n",
       "  \u001b[39m▆\u001b[39m█\u001b[39m▂\u001b[34m \u001b[39m\u001b[39m \u001b[39m \u001b[39m \u001b[39m \u001b[39m \u001b[39m \u001b[39m \u001b[39m \u001b[39m \u001b[32m \u001b[39m\u001b[39m \u001b[39m \u001b[39m \u001b[39m \u001b[39m \u001b[39m \u001b[39m \u001b[39m \u001b[39m \u001b[39m \u001b[39m \u001b[39m \u001b[39m \u001b[39m \u001b[39m \u001b[39m \u001b[39m \u001b[39m \u001b[39m \u001b[39m \u001b[39m \u001b[39m \u001b[39m \u001b[39m \u001b[39m \u001b[39m \u001b[39m \u001b[39m \u001b[39m \u001b[39m \u001b[39m \u001b[39m \u001b[39m \u001b[39m \u001b[39m \u001b[39m \u001b[39m \u001b[39m \u001b[39m \u001b[39m \u001b[39m \u001b[39m \u001b[39m \u001b[39m \u001b[39m \u001b[39m \u001b[39m \u001b[39m \u001b[39m \n",
       "  \u001b[39m█\u001b[39m█\u001b[39m█\u001b[34m▄\u001b[39m\u001b[39m▆\u001b[39m▄\u001b[39m▄\u001b[39m▁\u001b[39m▁\u001b[39m▄\u001b[39m▁\u001b[39m▄\u001b[39m▄\u001b[32m▁\u001b[39m\u001b[39m▁\u001b[39m▁\u001b[39m▄\u001b[39m▁\u001b[39m▁\u001b[39m▁\u001b[39m▁\u001b[39m▁\u001b[39m▄\u001b[39m▄\u001b[39m▄\u001b[39m▁\u001b[39m▁\u001b[39m▁\u001b[39m▁\u001b[39m▁\u001b[39m▄\u001b[39m▁\u001b[39m▄\u001b[39m▁\u001b[39m▁\u001b[39m▁\u001b[39m▁\u001b[39m▁\u001b[39m▁\u001b[39m▁\u001b[39m▁\u001b[39m▁\u001b[39m▁\u001b[39m▄\u001b[39m▁\u001b[39m▁\u001b[39m▁\u001b[39m▁\u001b[39m▁\u001b[39m▁\u001b[39m▄\u001b[39m▁\u001b[39m▁\u001b[39m▁\u001b[39m▁\u001b[39m▁\u001b[39m▁\u001b[39m▁\u001b[39m▁\u001b[39m▄\u001b[39m▄\u001b[39m \u001b[39m▁\n",
       "  123 ms\u001b[90m           Histogram: frequency by time\u001b[39m          221 ms \u001b[0m\u001b[1m<\u001b[22m\n",
       "\n",
       " Memory estimate\u001b[90m: \u001b[39m\u001b[33m23.38 MiB\u001b[39m, allocs estimate\u001b[90m: \u001b[39m\u001b[33m25\u001b[39m."
      ]
     },
     "execution_count": 34,
     "metadata": {},
     "output_type": "execute_result"
    }
   ],
   "source": [
    "# requesting eigenvectors requires extra work\n",
    "@benchmark eigen($A)"
   ]
  },
  {
   "cell_type": "code",
   "execution_count": 35,
   "metadata": {},
   "outputs": [
    {
     "data": {
      "text/plain": [
       "BenchmarkTools.Trial: 38 samples with 1 evaluation per sample.\n",
       " Range \u001b[90m(\u001b[39m\u001b[36m\u001b[1mmin\u001b[22m\u001b[39m … \u001b[35mmax\u001b[39m\u001b[90m):  \u001b[39m\u001b[36m\u001b[1m123.254 ms\u001b[22m\u001b[39m … \u001b[35m181.111 ms\u001b[39m  \u001b[90m┊\u001b[39m GC \u001b[90m(\u001b[39mmin … max\u001b[90m): \u001b[39m0.00% … 0.89%\n",
       " Time  \u001b[90m(\u001b[39m\u001b[34m\u001b[1mmedian\u001b[22m\u001b[39m\u001b[90m):     \u001b[39m\u001b[34m\u001b[1m129.066 ms               \u001b[22m\u001b[39m\u001b[90m┊\u001b[39m GC \u001b[90m(\u001b[39mmedian\u001b[90m):    \u001b[39m1.01%\n",
       " Time  \u001b[90m(\u001b[39m\u001b[32m\u001b[1mmean\u001b[22m\u001b[39m ± \u001b[32mσ\u001b[39m\u001b[90m):   \u001b[39m\u001b[32m\u001b[1m134.972 ms\u001b[22m\u001b[39m ± \u001b[32m 14.199 ms\u001b[39m  \u001b[90m┊\u001b[39m GC \u001b[90m(\u001b[39mmean ± σ\u001b[90m):  \u001b[39m0.94% ± 0.63%\n",
       "\n",
       "  \u001b[39m \u001b[39m▁\u001b[39m█\u001b[39m▁\u001b[39m▃\u001b[39m \u001b[34m \u001b[39m\u001b[39m \u001b[39m \u001b[39m▃\u001b[39m \u001b[39m \u001b[32m \u001b[39m\u001b[39m \u001b[39m \u001b[39m \u001b[39m \u001b[39m \u001b[39m \u001b[39m \u001b[39m \u001b[39m \u001b[39m \u001b[39m \u001b[39m \u001b[39m \u001b[39m \u001b[39m \u001b[39m \u001b[39m \u001b[39m \u001b[39m \u001b[39m \u001b[39m \u001b[39m \u001b[39m \u001b[39m \u001b[39m \u001b[39m \u001b[39m \u001b[39m \u001b[39m \u001b[39m \u001b[39m \u001b[39m \u001b[39m \u001b[39m \u001b[39m \u001b[39m \u001b[39m \u001b[39m \u001b[39m \u001b[39m \u001b[39m \u001b[39m \u001b[39m \u001b[39m \u001b[39m \u001b[39m \u001b[39m \u001b[39m \u001b[39m \u001b[39m \n",
       "  \u001b[39m▄\u001b[39m█\u001b[39m█\u001b[39m█\u001b[39m█\u001b[39m▄\u001b[34m▇\u001b[39m\u001b[39m▇\u001b[39m▄\u001b[39m█\u001b[39m▁\u001b[39m▄\u001b[32m▁\u001b[39m\u001b[39m▄\u001b[39m▄\u001b[39m▁\u001b[39m▁\u001b[39m▁\u001b[39m▄\u001b[39m▁\u001b[39m▁\u001b[39m▁\u001b[39m▁\u001b[39m▄\u001b[39m▁\u001b[39m▁\u001b[39m▁\u001b[39m▁\u001b[39m▁\u001b[39m▁\u001b[39m▁\u001b[39m▄\u001b[39m▄\u001b[39m▁\u001b[39m▁\u001b[39m▁\u001b[39m▁\u001b[39m▁\u001b[39m▁\u001b[39m▁\u001b[39m▁\u001b[39m▁\u001b[39m▁\u001b[39m▄\u001b[39m▄\u001b[39m▁\u001b[39m▄\u001b[39m▁\u001b[39m▁\u001b[39m▁\u001b[39m▁\u001b[39m▁\u001b[39m▁\u001b[39m▁\u001b[39m▁\u001b[39m▁\u001b[39m▁\u001b[39m▁\u001b[39m▁\u001b[39m▁\u001b[39m▄\u001b[39m \u001b[39m▁\n",
       "  123 ms\u001b[90m           Histogram: frequency by time\u001b[39m          181 ms \u001b[0m\u001b[1m<\u001b[22m\n",
       "\n",
       " Memory estimate\u001b[90m: \u001b[39m\u001b[33m23.38 MiB\u001b[39m, allocs estimate\u001b[90m: \u001b[39m\u001b[33m25\u001b[39m."
      ]
     },
     "execution_count": 35,
     "metadata": {},
     "output_type": "execute_result"
    }
   ],
   "source": [
    "@benchmark eigvecs($A)"
   ]
  },
  {
   "cell_type": "markdown",
   "metadata": {},
   "source": [
    "## Algorithm for singular value decomposition (SVD)\n",
    "\n",
    "<img src=\"./golub.jpeg\" width=\"150\" align=\"center\"/>\n",
    "\n",
    "<img src=\"./golub_license_plate.gif\" width=\"200\" align=\"center\"/>\n",
    "\n",
    "Assume $\\mathbf{A} \\in \\mathbb{R}^{m \\times n}$ and we seek the SVD $\\mathbf{A} = \\mathbf{U} \\mathbf{D} \\mathbf{V}^T$. \n",
    "\n",
    "<img src=\"svd_bidiagonalization.png\" width=\"400\" align=\"center\"/>\n",
    "\n",
    "<img src=\"SVD_bidiagonalization_2.png\" width=\"400\" align=\"center\"/>\n",
    "\n",
    "* **Golub-Kahan-Reinsch algorithm**: \n",
    "    * Stage 1: Transform $\\mathbf{A}$ to an upper bidiagonal form $\\mathbf{B}$ (by Householder).  \n",
    "    * Stage 2: Apply implicit-shift QR iteration to the tridiagonal matrix $\\mathbf{B}^T \\mathbf{B}$ _implicitly_.\n",
    "\n",
    "* See Section 8.6 of [Matrix Computation](https://epubs.siam.org/doi/book/10.1137/1.9781421407944) by Gene Golub and Charles Van Loan (2013) for more details.\n",
    "\n",
    "* $4m^2 n + 8mn^2 + 9n^3$ flops for a tall $(m \\ge n)$ matrix.\n",
    "\n",
    "### Example\n",
    "\n",
    "Julia functions: [`svd`](https://docs.julialang.org/en/v1/stdlib/LinearAlgebra/#LinearAlgebra.svd), [`svd!`](https://docs.julialang.org/en/v1/stdlib/LinearAlgebra/#LinearAlgebra.svd), [`svdvals`](https://docs.julialang.org/en/v1/stdlib/LinearAlgebra/#LinearAlgebra.svdvals), [`svdvals!`](https://docs.julialang.org/en/v1/stdlib/LinearAlgebra/#LinearAlgebra.svdvals!)."
   ]
  },
  {
   "cell_type": "code",
   "execution_count": 36,
   "metadata": {},
   "outputs": [
    {
     "data": {
      "text/plain": [
       "SVD{Float64, Float64, Matrix{Float64}, Vector{Float64}}\n",
       "U factor:\n",
       "5×3 Matrix{Float64}:\n",
       " -0.476023   0.101899   -0.606241\n",
       "  0.383418   0.769009   -0.390423\n",
       "  0.174174  -0.505094   -0.27588\n",
       "  0.711948  -0.0662056   0.133095\n",
       " -0.298641   0.372476    0.621464\n",
       "singular values:\n",
       "3-element Vector{Float64}:\n",
       " 3.4035485776459327\n",
       " 2.1681689871196523\n",
       " 0.9987236238970313\n",
       "Vt factor:\n",
       "3×3 Matrix{Float64}:\n",
       " -0.279172   -0.958222   -0.062241\n",
       "  0.959935   -0.280132    0.00710009\n",
       " -0.0242392  -0.0577652   0.998036"
      ]
     },
     "execution_count": 36,
     "metadata": {},
     "output_type": "execute_result"
    }
   ],
   "source": [
    "Random.seed!(257)\n",
    "\n",
    "A = randn(5, 3)\n",
    "Asvd = svd(A)"
   ]
  },
  {
   "cell_type": "code",
   "execution_count": 37,
   "metadata": {},
   "outputs": [
    {
     "data": {
      "text/plain": [
       "5×3 Matrix{Float64}:\n",
       " -0.476023   0.101899   -0.606241\n",
       "  0.383418   0.769009   -0.390423\n",
       "  0.174174  -0.505094   -0.27588\n",
       "  0.711948  -0.0662056   0.133095\n",
       " -0.298641   0.372476    0.621464"
      ]
     },
     "execution_count": 37,
     "metadata": {},
     "output_type": "execute_result"
    }
   ],
   "source": [
    "Asvd.U"
   ]
  },
  {
   "cell_type": "code",
   "execution_count": 38,
   "metadata": {},
   "outputs": [
    {
     "data": {
      "text/plain": [
       "3×3 Matrix{Float64}:\n",
       " -0.279172   -0.958222   -0.062241\n",
       "  0.959935   -0.280132    0.00710009\n",
       " -0.0242392  -0.0577652   0.998036"
      ]
     },
     "execution_count": 38,
     "metadata": {},
     "output_type": "execute_result"
    }
   ],
   "source": [
    "# Vt is cheaper to extract than V\n",
    "Asvd.Vt"
   ]
  },
  {
   "cell_type": "code",
   "execution_count": 39,
   "metadata": {},
   "outputs": [
    {
     "data": {
      "text/plain": [
       "3×3 adjoint(::Matrix{Float64}) with eltype Float64:\n",
       " -0.279172   0.959935    -0.0242392\n",
       " -0.958222  -0.280132    -0.0577652\n",
       " -0.062241   0.00710009   0.998036"
      ]
     },
     "execution_count": 39,
     "metadata": {},
     "output_type": "execute_result"
    }
   ],
   "source": [
    "Asvd.V"
   ]
  },
  {
   "cell_type": "code",
   "execution_count": 40,
   "metadata": {},
   "outputs": [
    {
     "data": {
      "text/plain": [
       "3-element Vector{Float64}:\n",
       " 3.4035485776459327\n",
       " 2.1681689871196523\n",
       " 0.9987236238970313"
      ]
     },
     "execution_count": 40,
     "metadata": {},
     "output_type": "execute_result"
    }
   ],
   "source": [
    "Asvd.S"
   ]
  },
  {
   "cell_type": "markdown",
   "metadata": {},
   "source": [
    "**Don't request singular vectors unless needed.**"
   ]
  },
  {
   "cell_type": "code",
   "execution_count": 41,
   "metadata": {},
   "outputs": [
    {
     "data": {
      "text/plain": [
       "BenchmarkTools.Trial: 113 samples with 1 evaluation per sample.\n",
       " Range \u001b[90m(\u001b[39m\u001b[36m\u001b[1mmin\u001b[22m\u001b[39m … \u001b[35mmax\u001b[39m\u001b[90m):  \u001b[39m\u001b[36m\u001b[1m42.612 ms\u001b[22m\u001b[39m … \u001b[35m51.217 ms\u001b[39m  \u001b[90m┊\u001b[39m GC \u001b[90m(\u001b[39mmin … max\u001b[90m): \u001b[39m0.00% … 0.00%\n",
       " Time  \u001b[90m(\u001b[39m\u001b[34m\u001b[1mmedian\u001b[22m\u001b[39m\u001b[90m):     \u001b[39m\u001b[34m\u001b[1m43.806 ms              \u001b[22m\u001b[39m\u001b[90m┊\u001b[39m GC \u001b[90m(\u001b[39mmedian\u001b[90m):    \u001b[39m0.00%\n",
       " Time  \u001b[90m(\u001b[39m\u001b[32m\u001b[1mmean\u001b[22m\u001b[39m ± \u001b[32mσ\u001b[39m\u001b[90m):   \u001b[39m\u001b[32m\u001b[1m44.331 ms\u001b[22m\u001b[39m ± \u001b[32m 1.539 ms\u001b[39m  \u001b[90m┊\u001b[39m GC \u001b[90m(\u001b[39mmean ± σ\u001b[90m):  \u001b[39m0.55% ± 1.53%\n",
       "\n",
       "  \u001b[39m \u001b[39m \u001b[39m \u001b[39m \u001b[39m \u001b[39m▂\u001b[39m▄\u001b[39m█\u001b[39m▂\u001b[39m▂\u001b[34m▄\u001b[39m\u001b[39m \u001b[39m \u001b[39m \u001b[39m▄\u001b[32m \u001b[39m\u001b[39m▁\u001b[39m \u001b[39m \u001b[39m \u001b[39m \u001b[39m \u001b[39m \u001b[39m \u001b[39m \u001b[39m \u001b[39m \u001b[39m \u001b[39m \u001b[39m \u001b[39m \u001b[39m \u001b[39m \u001b[39m \u001b[39m \u001b[39m \u001b[39m \u001b[39m \u001b[39m \u001b[39m \u001b[39m \u001b[39m \u001b[39m \u001b[39m \u001b[39m \u001b[39m \u001b[39m \u001b[39m \u001b[39m \u001b[39m \u001b[39m \u001b[39m \u001b[39m \u001b[39m \u001b[39m \u001b[39m \u001b[39m \u001b[39m \u001b[39m \u001b[39m \u001b[39m \n",
       "  \u001b[39m▆\u001b[39m▆\u001b[39m▆\u001b[39m█\u001b[39m█\u001b[39m█\u001b[39m█\u001b[39m█\u001b[39m█\u001b[39m█\u001b[34m█\u001b[39m\u001b[39m█\u001b[39m▅\u001b[39m█\u001b[39m█\u001b[32m▆\u001b[39m\u001b[39m█\u001b[39m▅\u001b[39m▁\u001b[39m█\u001b[39m▅\u001b[39m▃\u001b[39m▆\u001b[39m▁\u001b[39m▁\u001b[39m▁\u001b[39m▅\u001b[39m▅\u001b[39m▃\u001b[39m▅\u001b[39m▁\u001b[39m▁\u001b[39m▃\u001b[39m▃\u001b[39m▃\u001b[39m▁\u001b[39m▁\u001b[39m▁\u001b[39m▁\u001b[39m▁\u001b[39m▁\u001b[39m▁\u001b[39m▁\u001b[39m▁\u001b[39m▃\u001b[39m▁\u001b[39m▃\u001b[39m▁\u001b[39m▁\u001b[39m▁\u001b[39m▁\u001b[39m▁\u001b[39m▃\u001b[39m▁\u001b[39m▁\u001b[39m▁\u001b[39m▃\u001b[39m▃\u001b[39m▃\u001b[39m \u001b[39m▃\n",
       "  42.6 ms\u001b[90m         Histogram: frequency by time\u001b[39m        49.5 ms \u001b[0m\u001b[1m<\u001b[22m\n",
       "\n",
       " Memory estimate\u001b[90m: \u001b[39m\u001b[33m4.16 MiB\u001b[39m, allocs estimate\u001b[90m: \u001b[39m\u001b[33m14\u001b[39m."
      ]
     },
     "execution_count": 41,
     "metadata": {},
     "output_type": "execute_result"
    }
   ],
   "source": [
    "Random.seed!(257)\n",
    "\n",
    "n, p = 1000, 500\n",
    "A = randn(n, p)\n",
    "@benchmark svdvals($A)"
   ]
  },
  {
   "cell_type": "code",
   "execution_count": 42,
   "metadata": {},
   "outputs": [
    {
     "data": {
      "text/plain": [
       "BenchmarkTools.Trial: 75 samples with 1 evaluation per sample.\n",
       " Range \u001b[90m(\u001b[39m\u001b[36m\u001b[1mmin\u001b[22m\u001b[39m … \u001b[35mmax\u001b[39m\u001b[90m):  \u001b[39m\u001b[36m\u001b[1m63.130 ms\u001b[22m\u001b[39m … \u001b[35m77.503 ms\u001b[39m  \u001b[90m┊\u001b[39m GC \u001b[90m(\u001b[39mmin … max\u001b[90m): \u001b[39m1.13% … 1.64%\n",
       " Time  \u001b[90m(\u001b[39m\u001b[34m\u001b[1mmedian\u001b[22m\u001b[39m\u001b[90m):     \u001b[39m\u001b[34m\u001b[1m66.018 ms              \u001b[22m\u001b[39m\u001b[90m┊\u001b[39m GC \u001b[90m(\u001b[39mmedian\u001b[90m):    \u001b[39m1.10%\n",
       " Time  \u001b[90m(\u001b[39m\u001b[32m\u001b[1mmean\u001b[22m\u001b[39m ± \u001b[32mσ\u001b[39m\u001b[90m):   \u001b[39m\u001b[32m\u001b[1m66.828 ms\u001b[22m\u001b[39m ± \u001b[32m 2.726 ms\u001b[39m  \u001b[90m┊\u001b[39m GC \u001b[90m(\u001b[39mmean ± σ\u001b[90m):  \u001b[39m1.31% ± 1.06%\n",
       "\n",
       "  \u001b[39m \u001b[39m \u001b[39m \u001b[39m \u001b[39m \u001b[39m \u001b[39m \u001b[39m▃\u001b[39m \u001b[39m \u001b[39m█\u001b[39m▁\u001b[39m▁\u001b[39m▆\u001b[34m▄\u001b[39m\u001b[39m▁\u001b[39m \u001b[39m \u001b[32m▁\u001b[39m\u001b[39m \u001b[39m \u001b[39m \u001b[39m \u001b[39m \u001b[39m \u001b[39m \u001b[39m \u001b[39m \u001b[39m \u001b[39m \u001b[39m \u001b[39m \u001b[39m \u001b[39m \u001b[39m \u001b[39m \u001b[39m \u001b[39m \u001b[39m \u001b[39m \u001b[39m \u001b[39m \u001b[39m \u001b[39m \u001b[39m \u001b[39m \u001b[39m \u001b[39m \u001b[39m \u001b[39m \u001b[39m \u001b[39m \u001b[39m \u001b[39m \u001b[39m \u001b[39m \u001b[39m \u001b[39m \u001b[39m \u001b[39m \u001b[39m \n",
       "  \u001b[39m▄\u001b[39m▁\u001b[39m▄\u001b[39m▄\u001b[39m▇\u001b[39m▁\u001b[39m▄\u001b[39m█\u001b[39m▄\u001b[39m▄\u001b[39m█\u001b[39m█\u001b[39m█\u001b[39m█\u001b[34m█\u001b[39m\u001b[39m█\u001b[39m▇\u001b[39m▁\u001b[32m█\u001b[39m\u001b[39m▇\u001b[39m▄\u001b[39m▄\u001b[39m▄\u001b[39m▁\u001b[39m▄\u001b[39m▁\u001b[39m▁\u001b[39m▆\u001b[39m▄\u001b[39m▄\u001b[39m▁\u001b[39m▄\u001b[39m▁\u001b[39m▁\u001b[39m▁\u001b[39m▆\u001b[39m▄\u001b[39m▁\u001b[39m▁\u001b[39m▁\u001b[39m▁\u001b[39m▄\u001b[39m▁\u001b[39m▄\u001b[39m▁\u001b[39m▁\u001b[39m▁\u001b[39m▁\u001b[39m▁\u001b[39m▁\u001b[39m▁\u001b[39m▁\u001b[39m▁\u001b[39m▄\u001b[39m▁\u001b[39m▄\u001b[39m▁\u001b[39m▁\u001b[39m▄\u001b[39m \u001b[39m▁\n",
       "  63.1 ms\u001b[90m         Histogram: frequency by time\u001b[39m        75.3 ms \u001b[0m\u001b[1m<\u001b[22m\n",
       "\n",
       " Memory estimate\u001b[90m: \u001b[39m\u001b[33m17.32 MiB\u001b[39m, allocs estimate\u001b[90m: \u001b[39m\u001b[33m18\u001b[39m."
      ]
     },
     "execution_count": 42,
     "metadata": {},
     "output_type": "execute_result"
    }
   ],
   "source": [
    "@benchmark svd($A)"
   ]
  },
  {
   "cell_type": "markdown",
   "metadata": {},
   "source": [
    "## Lanczos/Arnoldi iterative method for top eigen-pairs\n",
    "\n",
    "* Consider the Google PageRank problem. We want to find the top left eigenvector of the transition matrix $\\mathbf{P}$. Direct methods such as (unsymmetric) QR or SVD takes forever. Iterative methods such as power method is feasible. However power method may take a large number of iterations.\n",
    "\n",
    "* **Krylov subspace methods** are the state-of-art iterative methods for obtaining the top eigen-values/vectors or singular values/vectors of large **sparse** or **structured** matrices.\n",
    "\n",
    "* **Lanczos method**: top eigen-pairs of a large _symmetric_ matrix.  \n",
    "\n",
    "* **Arnoldi method**: top eigen-pairs of a large _asymmetric_ matrix.\n",
    "\n",
    "* Both methods are also adapted to obtain top singular values/vectors of large sparse or structured matrices.\n",
    "\n",
    "* `eigs` and `svds` in Julia [Arpack.jl](https://github.com/JuliaLinearAlgebra/Arpack.jl) package and Matlab are wrappers of the ARPACK package, which implements Lanczos and Arnoldi methods."
   ]
  },
  {
   "cell_type": "code",
   "execution_count": 43,
   "metadata": {},
   "outputs": [
    {
     "name": "stderr",
     "output_type": "stream",
     "text": [
      "\u001b[36m\u001b[1m[ \u001b[22m\u001b[39m\u001b[36m\u001b[1mInfo: \u001b[22m\u001b[39mverify download of index files...\n",
      "\u001b[36m\u001b[1m[ \u001b[22m\u001b[39m\u001b[36m\u001b[1mInfo: \u001b[22m\u001b[39mreading database\n"
     ]
    },
    {
     "name": "stdout",
     "output_type": "stream",
     "text": [
      "EOFError()\n"
     ]
    },
    {
     "name": "stderr",
     "output_type": "stream",
     "text": [
      "\u001b[33m\u001b[1m┌ \u001b[22m\u001b[39m\u001b[33m\u001b[1mWarning: \u001b[22m\u001b[39mrecreating database file\n",
      "\u001b[33m\u001b[1m└ \u001b[22m\u001b[39m\u001b[90m@ MatrixDepot ~/.julia/packages/MatrixDepot/4S7Oa/src/download.jl:59\u001b[39m\n",
      "\u001b[36m\u001b[1m[ \u001b[22m\u001b[39m\u001b[36m\u001b[1mInfo: \u001b[22m\u001b[39mreading index files\n",
      "\u001b[36m\u001b[1m[ \u001b[22m\u001b[39m\u001b[36m\u001b[1mInfo: \u001b[22m\u001b[39madding metadata...\n",
      "\u001b[36m\u001b[1m[ \u001b[22m\u001b[39m\u001b[36m\u001b[1mInfo: \u001b[22m\u001b[39madding svd data...\n",
      "\u001b[36m\u001b[1m[ \u001b[22m\u001b[39m\u001b[36m\u001b[1mInfo: \u001b[22m\u001b[39mwriting database\n",
      "\u001b[33m\u001b[1m┌ \u001b[22m\u001b[39m\u001b[33m\u001b[1mWarning: \u001b[22m\u001b[39mexception during initialization: 'KeyError(MatrixDepot)'\n",
      "\u001b[33m\u001b[1m└ \u001b[22m\u001b[39m\u001b[90m@ MatrixDepot ~/.julia/packages/MatrixDepot/4S7Oa/src/MatrixDepot.jl:125\u001b[39m\n"
     ]
    },
    {
     "name": "stdout",
     "output_type": "stream",
     "text": [
      "typeof(A) = SparseMatrixCSC{Float64, Int64}\n",
      "typeof(Afull) = Matrix{Float64}\n"
     ]
    },
    {
     "data": {
      "text/plain": [
       "0.005509895180235235"
      ]
     },
     "execution_count": 43,
     "metadata": {},
     "output_type": "execute_result"
    }
   ],
   "source": [
    "using MatrixDepot, SparseArrays\n",
    "\n",
    "# Download the Boeing/bcsstk38 matrix (sparse, pd, 8032-by-8032) from SuiteSparse collection\n",
    "# https://www.cise.ufl.edu/research/sparse/matrices/Boeing/bcsstk38.html\n",
    "A = matrixdepot(\"Boeing/bcsstk38\")\n",
    "# Change type of A from Symmetric{Float64,SparseMatrixCSC{Float64,Int64}} to SparseMatrixCSC\n",
    "A = sparse(A)\n",
    "@show typeof(A)\n",
    "Afull = Matrix(A)\n",
    "@show typeof(Afull)\n",
    "# actual sparsity level\n",
    "count(!iszero, A) / length(A)"
   ]
  },
  {
   "cell_type": "code",
   "execution_count": 44,
   "metadata": {},
   "outputs": [
    {
     "data": {
      "text/plain": [
       "         \u001b[38;5;8m┌──────────────────────────────────────────┐\u001b[0m    \n",
       "       \u001b[38;5;8m1\u001b[0m \u001b[38;5;8m│\u001b[0m\u001b[38;5;5m⢿\u001b[0m\u001b[38;5;5m⣷\u001b[0m\u001b[38;5;5m⣂\u001b[0m⠀⠀⠀⠀⠀⠀⠀⠀⠀⠀⠀⠀⠀⠀⠀⠀⠀⠀⠀⠀⠀⠀⠀⠀⠀⠀⠀⠀⠀⠀⠀⠀⠀⠀⠀⠀⠀⠀⠀\u001b[38;5;8m│\u001b[0m \u001b[38;5;1m> 0\u001b[0m\n",
       "        \u001b[38;5;8m\u001b[0m \u001b[38;5;8m│\u001b[0m\u001b[38;5;5m⠈\u001b[0m\u001b[38;5;5m⠘\u001b[0m\u001b[38;5;5m⢻\u001b[0m\u001b[38;5;5m⣶\u001b[0m\u001b[38;5;5m⣄\u001b[0m⠀⠀⠀⠀\u001b[38;5;5m⡀\u001b[0m\u001b[38;5;5m⣀\u001b[0m⠀⠀⠀⠀⠀⠀⠀⠀⠀⠀⠀⠀⠀⠀⠀⠀⠀⠀⠀⠀⠀⠀⠀⠀⠀⠀⠀⠀⠀⠀⠀\u001b[38;5;8m│\u001b[0m \u001b[38;5;4m< 0\u001b[0m\n",
       "        \u001b[38;5;8m\u001b[0m \u001b[38;5;8m│\u001b[0m⠀⠀⠀\u001b[38;5;5m⠙\u001b[0m\u001b[38;5;5m⢻\u001b[0m\u001b[38;5;5m⣶\u001b[0m\u001b[38;5;5m⡳\u001b[0m\u001b[38;5;5m⣒\u001b[0m⠀\u001b[38;5;5m⠉\u001b[0m\u001b[38;5;5m⣛\u001b[0m⠀⠀⠀⠀⠀⠀⠀⠀⠀⠀⠀⠀⠀⠀⠀⠀⠀⠀⠀⠀⠀⠀⠀⠀⠀⠀⠀⠀⠀⠀⠀\u001b[38;5;8m│\u001b[0m \u001b[38;5;8m\u001b[0m   \n",
       "        \u001b[38;5;8m\u001b[0m \u001b[38;5;8m│\u001b[0m⠀⠀⠀⠀\u001b[38;5;5m⢹\u001b[0m\u001b[38;5;5m⢪\u001b[0m\u001b[38;5;5m⡿\u001b[0m\u001b[38;5;5m⣯\u001b[0m\u001b[38;5;5m⣤\u001b[0m\u001b[38;5;5m⣤\u001b[0m\u001b[38;5;5m⢩\u001b[0m\u001b[38;5;5m⣀\u001b[0m⠀⠀⠀⠀⠀⠀⠀⠀⠀⠀⠀⠀⠀⠀⠀⠀⠀⠀⠀⠀⠀⠀⠀⠀⠀⠀⠀⠀⠀⠀\u001b[38;5;8m│\u001b[0m \u001b[38;5;8m\u001b[0m   \n",
       "        \u001b[38;5;8m\u001b[0m \u001b[38;5;8m│\u001b[0m⠀⠀⠀\u001b[38;5;5m⠠\u001b[0m\u001b[38;5;5m⡄\u001b[0m⠀⠀\u001b[38;5;5m⣿\u001b[0m\u001b[38;5;5m⣿\u001b[0m\u001b[38;5;5m⣿\u001b[0m\u001b[38;5;5m⣿\u001b[0m\u001b[38;5;5m⣭\u001b[0m⠀\u001b[38;5;5m⠠\u001b[0m\u001b[38;5;5m⡄\u001b[0m⠀⠀⠀⠀⠀⠀⠀⠀⠀⠀⠀⠀⠀⠀⠀⠀⠀⠀⠀⠀⠀⠀⠀⠀⠀⠀\u001b[38;5;5m⡀\u001b[0m\u001b[38;5;8m│\u001b[0m \u001b[38;5;8m\u001b[0m   \n",
       "        \u001b[38;5;8m\u001b[0m \u001b[38;5;8m│\u001b[0m⠀⠀⠀\u001b[38;5;5m⠘\u001b[0m\u001b[38;5;5m⠛\u001b[0m\u001b[38;5;5m⠘\u001b[0m\u001b[38;5;5m⠃\u001b[0m\u001b[38;5;5m⢲\u001b[0m\u001b[38;5;5m⡟\u001b[0m\u001b[38;5;5m⣿\u001b[0m\u001b[38;5;5m⣿\u001b[0m\u001b[38;5;5m⣿\u001b[0m\u001b[38;5;5m⣀\u001b[0m\u001b[38;5;5m⢴\u001b[0m\u001b[38;5;5m⣆\u001b[0m⠀⠀⠀⠀⠀⠀⠀⠀⠀⠀⠀⠀⠀⠀⠀⠀⠀⠀⠀⠀⠀⠀⠀⠀⠀⠀\u001b[38;5;5m⣠\u001b[0m\u001b[38;5;8m│\u001b[0m \u001b[38;5;8m\u001b[0m   \n",
       "        \u001b[38;5;8m\u001b[0m \u001b[38;5;8m│\u001b[0m⠀⠀⠀⠀⠀⠀⠀⠀⠀\u001b[38;5;5m⡀\u001b[0m\u001b[38;5;5m⢀\u001b[0m\u001b[38;5;5m⣜\u001b[0m\u001b[38;5;5m⡿\u001b[0m\u001b[38;5;5m⣯\u001b[0m\u001b[38;5;5m⣿\u001b[0m\u001b[38;5;5m⠇\u001b[0m\u001b[38;5;5m⠼\u001b[0m\u001b[38;5;5m⠤\u001b[0m⠀⠀⠀⠀⠀⠀⠀⠀⠀⠀⠀⠀⠀⠀⠀⠀⠀⠀⠀⠀⠀⠀⠀\u001b[38;5;5m⢛\u001b[0m\u001b[38;5;8m│\u001b[0m \u001b[38;5;8m\u001b[0m   \n",
       "        \u001b[38;5;8m\u001b[0m \u001b[38;5;8m│\u001b[0m⠀⠀⠀⠀⠀⠀⠀⠀⠀\u001b[38;5;5m⠉\u001b[0m\u001b[38;5;5m⠈\u001b[0m\u001b[38;5;5m⠙\u001b[0m\u001b[38;5;5m⠿\u001b[0m\u001b[38;5;5m⠟\u001b[0m\u001b[38;5;5m⢻\u001b[0m\u001b[38;5;5m⣶\u001b[0m\u001b[38;5;5m⣤\u001b[0m\u001b[38;5;5m⡄\u001b[0m⠀⠀⠀⠀⠀⠀⠀⠀⠀⠀⠀⠀⠀⠀⠀⠀⠀⠀⠀⠀⠀⠀⠀\u001b[38;5;5m⠳\u001b[0m\u001b[38;5;8m│\u001b[0m \u001b[38;5;8m\u001b[0m   \n",
       "        \u001b[38;5;8m\u001b[0m \u001b[38;5;8m│\u001b[0m⠀⠀⠀⠀⠀⠀⠀⠀⠀⠀⠀⠀\u001b[38;5;5m⠒\u001b[0m\u001b[38;5;5m⡇\u001b[0m⠀\u001b[38;5;5m⠿\u001b[0m\u001b[38;5;5m⣿\u001b[0m\u001b[38;5;5m⣿\u001b[0m\u001b[38;5;5m⣾\u001b[0m\u001b[38;5;5m⢰\u001b[0m⠀\u001b[38;5;5m⢠\u001b[0m⠀⠀⠀⠀⠀⠀\u001b[38;5;5m⠠\u001b[0m⠀⠀⠀⠀⠀⠀⠀⠀⠀⠀⠀⠀⠀\u001b[38;5;8m│\u001b[0m \u001b[38;5;8m\u001b[0m   \n",
       "        \u001b[38;5;8m\u001b[0m \u001b[38;5;8m│\u001b[0m⠀⠀⠀⠀⠀⠀⠀⠀⠀⠀⠀⠀⠀⠀⠀⠀\u001b[38;5;5m⢚\u001b[0m\u001b[38;5;5m⣛\u001b[0m\u001b[38;5;5m⣿\u001b[0m\u001b[38;5;5m⣿\u001b[0m\u001b[38;5;5m⣶\u001b[0m\u001b[38;5;5m⣔\u001b[0m⠀⠀⠀⠀⠀⠀⠀⠀⠀⠀⠀⠀⠀⠀⠀⠀⠀⠀⠀⠀\u001b[38;5;8m│\u001b[0m \u001b[38;5;8m\u001b[0m   \n",
       "        \u001b[38;5;8m\u001b[0m \u001b[38;5;8m│\u001b[0m⠀⠀⠀⠀⠀⠀⠀⠀⠀⠀⠀⠀⠀⠀⠀⠀⠀\u001b[38;5;5m⣀\u001b[0m\u001b[38;5;5m⢘\u001b[0m\u001b[38;5;5m⢿\u001b[0m\u001b[38;5;5m⣿\u001b[0m\u001b[38;5;5m⣿\u001b[0m\u001b[38;5;5m⡿\u001b[0m\u001b[38;5;5m⠇\u001b[0m\u001b[38;5;5m⠷\u001b[0m\u001b[38;5;5m⡶\u001b[0m⠀⠀⠀⠀⠀⠀⠀⠀⠀⠀⠀⠀⠀⠀⠀⠀\u001b[38;5;8m│\u001b[0m \u001b[38;5;8m\u001b[0m   \n",
       "        \u001b[38;5;8m\u001b[0m \u001b[38;5;8m│\u001b[0m⠀⠀⠀⠀⠀⠀⠀⠀⠀⠀⠀⠀⠀⠀⠀⠀⠀⠀⠀⠀\u001b[38;5;5m⠿\u001b[0m\u001b[38;5;5m⠏\u001b[0m\u001b[38;5;5m⡿\u001b[0m\u001b[38;5;5m⣯\u001b[0m\u001b[38;5;5m⡽\u001b[0m\u001b[38;5;5m⡗\u001b[0m⠀⠀⠀⠀⠀⠀⠀⠀⠀⠀⠀\u001b[38;5;5m⢠\u001b[0m\u001b[38;5;5m⡀\u001b[0m⠀⠀⠀\u001b[38;5;8m│\u001b[0m \u001b[38;5;8m\u001b[0m   \n",
       "        \u001b[38;5;8m\u001b[0m \u001b[38;5;8m│\u001b[0m⠀⠀⠀⠀⠀⠀⠀⠀⠀⠀⠀⠀⠀⠀⠀⠀⠀⠀⠀⠀\u001b[38;5;5m⢹\u001b[0m\u001b[38;5;5m⡧\u001b[0m\u001b[38;5;5m⢷\u001b[0m\u001b[38;5;5m⠯\u001b[0m\u001b[38;5;5m⢿\u001b[0m\u001b[38;5;5m⣷\u001b[0m\u001b[38;5;5m⣀\u001b[0m⠀\u001b[38;5;5m⢀\u001b[0m\u001b[38;5;5m⡀\u001b[0m⠀⠀⠀⠀⠀⠀⠀\u001b[38;5;5m⠈\u001b[0m\u001b[38;5;5m⠁\u001b[0m⠀⠀⠀\u001b[38;5;8m│\u001b[0m \u001b[38;5;8m\u001b[0m   \n",
       "        \u001b[38;5;8m\u001b[0m \u001b[38;5;8m│\u001b[0m⠀⠀⠀⠀⠀⠀⠀⠀⠀⠀⠀⠀⠀⠀⠀⠀⠀⠀⠀⠀⠀⠀⠀⠀⠀\u001b[38;5;5m⠘\u001b[0m\u001b[38;5;5m⠻\u001b[0m\u001b[38;5;5m⣦\u001b[0m\u001b[38;5;5m⣸\u001b[0m\u001b[38;5;5m⡇\u001b[0m\u001b[38;5;5m⣆\u001b[0m⠀⠀⠀⠀⠀⠀⠀⠀⠀⠀⠀\u001b[38;5;8m│\u001b[0m \u001b[38;5;8m\u001b[0m   \n",
       "        \u001b[38;5;8m\u001b[0m \u001b[38;5;8m│\u001b[0m⠀⠀⠀⠀⠀⠀⠀⠀⠀⠀⠀⠀⠀⠀⠀⠀⠀\u001b[38;5;5m⠂\u001b[0m⠀⠀⠀⠀⠀⠀⠀\u001b[38;5;5m⠰\u001b[0m\u001b[38;5;5m⠶\u001b[0m\u001b[38;5;5m⠾\u001b[0m\u001b[38;5;5m⢿\u001b[0m\u001b[38;5;5m⣷\u001b[0m\u001b[38;5;5m⣿\u001b[0m\u001b[38;5;5m⣄\u001b[0m⠀⠀⠀⠀⠀⠀\u001b[38;5;5m⠁\u001b[0m\u001b[38;5;5m⠐\u001b[0m⠀⠀\u001b[38;5;8m│\u001b[0m \u001b[38;5;8m\u001b[0m   \n",
       "        \u001b[38;5;8m\u001b[0m \u001b[38;5;8m│\u001b[0m⠀⠀⠀⠀⠀⠀⠀⠀⠀⠀⠀⠀⠀⠀⠀⠀⠀⠀⠀⠀⠀⠀⠀⠀⠀⠀\u001b[38;5;5m⠈\u001b[0m\u001b[38;5;5m⠙\u001b[0m\u001b[38;5;5m⠛\u001b[0m\u001b[38;5;5m⢿\u001b[0m\u001b[38;5;5m⣿\u001b[0m\u001b[38;5;5m⣿\u001b[0m\u001b[38;5;5m⡷\u001b[0m\u001b[38;5;5m⡆\u001b[0m⠀⠀\u001b[38;5;5m⢘\u001b[0m\u001b[38;5;5m⡒\u001b[0m\u001b[38;5;5m⠲\u001b[0m\u001b[38;5;5m⡖\u001b[0m⠀\u001b[38;5;5m⡆\u001b[0m\u001b[38;5;8m│\u001b[0m \u001b[38;5;8m\u001b[0m   \n",
       "        \u001b[38;5;8m\u001b[0m \u001b[38;5;8m│\u001b[0m⠀⠀⠀⠀⠀⠀⠀⠀⠀⠀⠀⠀⠀⠀⠀⠀⠀⠀⠀⠀⠀⠀⠀⠀⠀⠀⠀⠀⠀⠀\u001b[38;5;5m⠹\u001b[0m\u001b[38;5;5m⠯\u001b[0m\u001b[38;5;5m⢻\u001b[0m\u001b[38;5;5m⣶\u001b[0m\u001b[38;5;5m⣾\u001b[0m\u001b[38;5;5m⣣\u001b[0m⠀\u001b[38;5;5m⠄\u001b[0m\u001b[38;5;5m⠑\u001b[0m\u001b[38;5;5m⠄\u001b[0m\u001b[38;5;5m⠆\u001b[0m\u001b[38;5;5m⠆\u001b[0m\u001b[38;5;8m│\u001b[0m \u001b[38;5;8m\u001b[0m   \n",
       "        \u001b[38;5;8m\u001b[0m \u001b[38;5;8m│\u001b[0m⠀⠀⠀⠀⠀⠀⠀⠀⠀⠀⠀⠀⠀⠀⠀⠀⠀⠀⠀⠀⠀⠀⠀⠀⠀⠀⠀⠀⠀⠀⠀⠀\u001b[38;5;5m⠾\u001b[0m\u001b[38;5;5m⣻\u001b[0m\u001b[38;5;5m⣿\u001b[0m\u001b[38;5;5m⣿\u001b[0m\u001b[38;5;5m⡃\u001b[0m\u001b[38;5;5m⡀\u001b[0m\u001b[38;5;5m⠒\u001b[0m\u001b[38;5;5m⠂\u001b[0m\u001b[38;5;5m⠂\u001b[0m⠀\u001b[38;5;8m│\u001b[0m \u001b[38;5;8m\u001b[0m   \n",
       "        \u001b[38;5;8m\u001b[0m \u001b[38;5;8m│\u001b[0m⠀⠀⠀⠀⠀⠀⠀⠀⠀⠀⠀⠀⠀⠀⠀⠀⠀⠀⠀⠀⠀⠀⠀\u001b[38;5;5m⣀\u001b[0m\u001b[38;5;5m⡀\u001b[0m⠀⠀⠀⠀⠀\u001b[38;5;5m⢲\u001b[0m\u001b[38;5;5m⠰\u001b[0m⠀\u001b[38;5;5m⠄\u001b[0m\u001b[38;5;5m⠉\u001b[0m\u001b[38;5;5m⠨\u001b[0m\u001b[38;5;5m⡿\u001b[0m\u001b[38;5;5m⣯\u001b[0m\u001b[38;5;5m⡙\u001b[0m\u001b[38;5;5m⢨\u001b[0m\u001b[38;5;5m⡇\u001b[0m⠀\u001b[38;5;8m│\u001b[0m \u001b[38;5;8m\u001b[0m   \n",
       "        \u001b[38;5;8m\u001b[0m \u001b[38;5;8m│\u001b[0m⠀⠀⠀⠀⠀⠀⠀⠀⠀⠀⠀⠀⠀⠀⠀⠀⠀⠀⠀⠀⠀⠀⠀\u001b[38;5;5m⠈\u001b[0m\u001b[38;5;5m⠁\u001b[0m⠀⠀⠀\u001b[38;5;5m⢁\u001b[0m⠀\u001b[38;5;5m⢸\u001b[0m\u001b[38;5;5m⠦\u001b[0m\u001b[38;5;5m⠑\u001b[0m\u001b[38;5;5m⠄\u001b[0m\u001b[38;5;5m⠸\u001b[0m⠀\u001b[38;5;5m⡓\u001b[0m\u001b[38;5;5m⣈\u001b[0m\u001b[38;5;5m⠿\u001b[0m\u001b[38;5;5m⣧\u001b[0m\u001b[38;5;5m⣮\u001b[0m\u001b[38;5;5m⡇\u001b[0m\u001b[38;5;8m│\u001b[0m \u001b[38;5;8m\u001b[0m   \n",
       "   \u001b[38;5;8m8 032\u001b[0m \u001b[38;5;8m│\u001b[0m⠀⠀⠀⠀⠀⠀⠀⠀⠀\u001b[38;5;5m⠠\u001b[0m⠀\u001b[38;5;5m⣠\u001b[0m\u001b[38;5;5m⣤\u001b[0m\u001b[38;5;5m⢀\u001b[0m\u001b[38;5;5m⢤\u001b[0m\u001b[38;5;5m⡀\u001b[0m⠀⠀⠀⠀⠀⠀⠀⠀⠀⠀⠀⠀⠀⠀\u001b[38;5;5m⠠\u001b[0m\u001b[38;5;5m⠤\u001b[0m\u001b[38;5;5m⠨\u001b[0m\u001b[38;5;5m⠅\u001b[0m\u001b[38;5;5m⠈\u001b[0m⠀\u001b[38;5;5m⠉\u001b[0m\u001b[38;5;5m⠉\u001b[0m\u001b[38;5;5m⠮\u001b[0m\u001b[38;5;5m⠿\u001b[0m\u001b[38;5;5m⠿\u001b[0m\u001b[38;5;5m⣧\u001b[0m\u001b[38;5;8m│\u001b[0m \u001b[38;5;8m\u001b[0m   \n",
       "         \u001b[38;5;8m└──────────────────────────────────────────┘\u001b[0m    \n",
       "         ⠀\u001b[38;5;8m1\u001b[0m⠀⠀⠀⠀⠀⠀⠀⠀⠀⠀⠀⠀⠀⠀⠀⠀⠀⠀⠀\u001b[38;5;8m\u001b[0m⠀⠀⠀⠀⠀⠀⠀⠀⠀⠀⠀⠀⠀⠀⠀⠀⠀\u001b[38;5;8m8 032\u001b[0m⠀    \n",
       "         ⠀⠀⠀⠀⠀⠀⠀⠀⠀⠀⠀⠀⠀⠀⠀⠀⠀355 460 ≠ 0⠀⠀⠀⠀⠀⠀⠀⠀⠀⠀⠀⠀⠀⠀⠀⠀    "
      ]
     },
     "execution_count": 44,
     "metadata": {},
     "output_type": "execute_result"
    }
   ],
   "source": [
    "using UnicodePlots\n",
    "spy(A)"
   ]
  },
  {
   "cell_type": "code",
   "execution_count": 45,
   "metadata": {},
   "outputs": [
    {
     "name": "stdout",
     "output_type": "stream",
     "text": [
      " 13.709962 seconds (6.71 k allocations: 495.374 MiB, 0.10% gc time, 0.07% compilation time)\n"
     ]
    },
    {
     "data": {
      "text/plain": [
       "5-element Vector{Float64}:\n",
       " 1.0065808940236533e9\n",
       " 2.575326809321976e9\n",
       " 2.590025206197205e9\n",
       " 3.9998475579818964e11\n",
       " 4.0423074877278925e11"
      ]
     },
     "execution_count": 45,
     "metadata": {},
     "output_type": "execute_result"
    }
   ],
   "source": [
    "# top 5 eigenvalues by LAPACK (QR algorithm)\n",
    "n = size(A, 1)\n",
    "@time eigvals(Symmetric(Afull), (n-4):n)"
   ]
  },
  {
   "cell_type": "code",
   "execution_count": 46,
   "metadata": {},
   "outputs": [
    {
     "name": "stdout",
     "output_type": "stream",
     "text": [
      "  1.317559 seconds (7.80 M allocations: 404.307 MiB, 2.96% gc time, 98.69% compilation time)\n"
     ]
    },
    {
     "data": {
      "text/plain": [
       "([4.042307487727891e11, 3.999847557981894e11, 2.590025206197241e9, 2.575326809321967e9, 1.0065808940236938e9], 5, 3, 44, [-1.0868122619264172e6, 421656.3313688604, -89930.27954522484, 1.5161178968460748e6, -171347.6373654874, 529000.7873831198, -1.0162884032039382e6, -162954.545914884, -1.136964763875005e6, -2313.8744779898893  …  -961942.1221072834, 1.879656585465009e6, -1.3277287718727028e6, 330471.6262616602, -56344.27204281579, -469345.138082693, -595080.3318233634, 1.0466780493812122e6, -630502.4715225042, -220867.8023729571])"
      ]
     },
     "execution_count": 46,
     "metadata": {},
     "output_type": "execute_result"
    }
   ],
   "source": [
    "using Arpack\n",
    "# top 5 eigenvalues by iterative methods\n",
    "@time eigs(A; nev=5, ritzvec=false, which=:LM)"
   ]
  },
  {
   "cell_type": "code",
   "execution_count": 47,
   "metadata": {},
   "outputs": [
    {
     "data": {
      "text/plain": [
       "BenchmarkTools.Trial: 322 samples with 1 evaluation per sample.\n",
       " Range \u001b[90m(\u001b[39m\u001b[36m\u001b[1mmin\u001b[22m\u001b[39m … \u001b[35mmax\u001b[39m\u001b[90m):  \u001b[39m\u001b[36m\u001b[1m14.670 ms\u001b[22m\u001b[39m … \u001b[35m34.839 ms\u001b[39m  \u001b[90m┊\u001b[39m GC \u001b[90m(\u001b[39mmin … max\u001b[90m): \u001b[39m0.00% … 56.47%\n",
       " Time  \u001b[90m(\u001b[39m\u001b[34m\u001b[1mmedian\u001b[22m\u001b[39m\u001b[90m):     \u001b[39m\u001b[34m\u001b[1m14.978 ms              \u001b[22m\u001b[39m\u001b[90m┊\u001b[39m GC \u001b[90m(\u001b[39mmedian\u001b[90m):    \u001b[39m0.00%\n",
       " Time  \u001b[90m(\u001b[39m\u001b[32m\u001b[1mmean\u001b[22m\u001b[39m ± \u001b[32mσ\u001b[39m\u001b[90m):   \u001b[39m\u001b[32m\u001b[1m15.566 ms\u001b[22m\u001b[39m ± \u001b[32m 1.840 ms\u001b[39m  \u001b[90m┊\u001b[39m GC \u001b[90m(\u001b[39mmean ± σ\u001b[90m):  \u001b[39m0.85% ±  4.41%\n",
       "\n",
       "  \u001b[39m▃\u001b[39m▇\u001b[34m█\u001b[39m\u001b[39m▄\u001b[39m▁\u001b[39m \u001b[39m \u001b[32m \u001b[39m\u001b[39m \u001b[39m \u001b[39m \u001b[39m \u001b[39m \u001b[39m \u001b[39m \u001b[39m \u001b[39m \u001b[39m \u001b[39m \u001b[39m \u001b[39m \u001b[39m \u001b[39m \u001b[39m \u001b[39m \u001b[39m \u001b[39m \u001b[39m \u001b[39m \u001b[39m \u001b[39m \u001b[39m▁\u001b[39m▂\u001b[39m \u001b[39m \u001b[39m \u001b[39m \u001b[39m \u001b[39m \u001b[39m \u001b[39m \u001b[39m \u001b[39m \u001b[39m \u001b[39m \u001b[39m \u001b[39m \u001b[39m \u001b[39m \u001b[39m \u001b[39m \u001b[39m \u001b[39m \u001b[39m \u001b[39m \u001b[39m \u001b[39m \u001b[39m \u001b[39m \u001b[39m \u001b[39m \n",
       "  \u001b[39m█\u001b[39m█\u001b[34m█\u001b[39m\u001b[39m█\u001b[39m█\u001b[39m█\u001b[39m█\u001b[32m▇\u001b[39m\u001b[39m▁\u001b[39m▁\u001b[39m▁\u001b[39m▁\u001b[39m▁\u001b[39m▁\u001b[39m▁\u001b[39m▁\u001b[39m▁\u001b[39m▁\u001b[39m▁\u001b[39m▁\u001b[39m▁\u001b[39m▁\u001b[39m▁\u001b[39m▁\u001b[39m▁\u001b[39m▁\u001b[39m▁\u001b[39m▁\u001b[39m▁\u001b[39m▁\u001b[39m▅\u001b[39m█\u001b[39m█\u001b[39m▅\u001b[39m▇\u001b[39m▅\u001b[39m▄\u001b[39m▄\u001b[39m▁\u001b[39m▁\u001b[39m▁\u001b[39m▁\u001b[39m▁\u001b[39m▁\u001b[39m▁\u001b[39m▁\u001b[39m▁\u001b[39m▁\u001b[39m▁\u001b[39m▁\u001b[39m▁\u001b[39m▁\u001b[39m▁\u001b[39m▁\u001b[39m▁\u001b[39m▁\u001b[39m▁\u001b[39m▁\u001b[39m▄\u001b[39m \u001b[39m▆\n",
       "  14.7 ms\u001b[90m      \u001b[39m\u001b[90mHistogram: \u001b[39m\u001b[90m\u001b[1mlog(\u001b[22m\u001b[39m\u001b[90mfrequency\u001b[39m\u001b[90m\u001b[1m)\u001b[22m\u001b[39m\u001b[90m by time\u001b[39m      22.3 ms \u001b[0m\u001b[1m<\u001b[22m\n",
       "\n",
       " Memory estimate\u001b[90m: \u001b[39m\u001b[33m1.58 MiB\u001b[39m, allocs estimate\u001b[90m: \u001b[39m\u001b[33m278\u001b[39m."
      ]
     },
     "execution_count": 47,
     "metadata": {},
     "output_type": "execute_result"
    }
   ],
   "source": [
    "@benchmark eigs($A; nev=5, ritzvec=false, which=:LM)"
   ]
  },
  {
   "cell_type": "markdown",
   "metadata": {},
   "source": [
    "We see >1000 fold speedup in this case.\n",
    "\n",
    "## Jacobi method for symmetric eigen-decomposition\n",
    "\n",
    "Assume $\\mathbf{A} \\in \\mathbf{R}^{n \\times n}$ is symmetric and we seek the eigen-decomposition $\\mathbf{A} = \\mathbf{U} \\Lambda \\mathbf{U}^T$.\n",
    "\n",
    "* Idea: Systematically reduce off-diagonal entries \n",
    "$$\n",
    "\\text{off}(\\mathbf{A}) = \\sum_i \\sum_{j \\ne i} a_{ij}^2\n",
    "$$\n",
    "by Jacobi rotations.\n",
    "\n",
    "* Jacobi/Givens rotations:\n",
    "$$\n",
    "\\begin{eqnarray*}\n",
    "\t\\mathbf{J}(p,q,\\theta) = \\begin{pmatrix} \n",
    "\t1 & & 0 & & 0 & & 0 \\\\\n",
    "\t\\vdots & \\ddots & \\vdots & & \\vdots & & \\vdots \\\\\n",
    "\t0 & & \\cos(\\theta) & & \\sin(\\theta) & & 0 \\\\ \n",
    "\t\\vdots & & \\vdots & \\ddots & \\vdots & & \\vdots \\\\\n",
    "\t0 & & - \\sin(\\theta) & & \\cos(\\theta) & & 0 \\\\\n",
    "\t\\vdots & & \\vdots & & \\vdots & \\ddots & \\vdots \\\\\n",
    "\t0 & & 0 & & 0 & & 1 \\end{pmatrix},\n",
    "\\end{eqnarray*}\n",
    "$$\n",
    "$\\mathbf{J}(p,q,\\theta)$ is orthogonal.\n",
    "\n",
    "* Consider $\\mathbf{B} = \\mathbf{J}^T \\mathbf{A} \\mathbf{J}$. $\\mathbf{B}$ preserves the symmetry and eigenvalues of $\\mathbf{A}$. Taking \n",
    "$$\n",
    "\\begin{eqnarray*}\n",
    "\\begin{cases}\n",
    "\\tan (2\\theta) = 2a_{pq}/({a_{qq}-a_{pp}}) & \\text{if } a_{pp} \\ne a_{qq} \\\\\n",
    "\\theta = \\pi/4 & \\text{if } a_{pp}=a_{qq}\n",
    "\\end{cases}\n",
    "\\end{eqnarray*}\n",
    "$$\n",
    "forces $b_{pq}=0$.\n",
    "\n",
    "* Since orthogonal transform preserves Frobenius norm, we have\n",
    "$$\n",
    "b_{pp}^2 + b_{qq}^2 = a_{pp}^2 + a_{qq}^2 + 2a_{pq}^2.\n",
    "$$ \n",
    "(Just check the 2-by-2 block)\n",
    "\n",
    "* Since $\\|\\mathbf{A}\\|_{\\text{F}} = \\|\\mathbf{B}\\|_{\\text{F}}$, this implies that the off-diagonal part \n",
    "$$\n",
    "\t\\text{off}(\\mathbf{B}) = \\text{off}(\\mathbf{A}) - 2a_{pq}^2\n",
    "$$\n",
    "is decreased whenever $a_{pq} \\ne 0$.\n",
    "\n",
    "* One Jacobi rotation costs $O(n)$ flops.\n",
    "\n",
    "* **Classical Jacobi**: search for the largest $|a_{ij}|$ at each iteration. $O(n^2)$ efforts!\n",
    "\n",
    "* $\\text{off}(\\mathbf{A}) \\le n(n-1) a_{ij}^2$ and $\\text{off}(\\mathbf{B}) = \\text{off}(\\mathbf{A}) - 2 a_{ij}^2$ together implies \n",
    "$$\n",
    "\\text{off}(\\mathbf{B}) \\le \\left( 1 - \\frac{2}{n(n-1)} \\right) \\text{off}(\\mathbf{A}).\n",
    "$$\n",
    "Thus Jacobi method converges in $O(n^2)$ iterations.\n",
    "\n",
    "* In practice, cyclic-by-row implementation, to avoid the costly $O(n^2)$ search in the classical Jacobi.\n",
    "\n",
    "* Jacobi method attracts a lot recent attention because of its rich inherent parallelism.\n",
    "\n",
    "* **Parallel Jacobi**: \"merry-go-round\" to generate parallel ordering.\n",
    "\n",
    "<img src=\"./merry_go_round.jpg\" width=\"500\" align=\"center\"/>"
   ]
  }
 ],
 "metadata": {
  "@webio": {
   "lastCommId": null,
   "lastKernelId": null
  },
  "jupytext": {
   "formats": "ipynb,qmd"
  },
  "kernelspec": {
   "display_name": "Julia 1.11.5",
   "language": "julia",
   "name": "julia-1.11"
  },
  "language_info": {
   "file_extension": ".jl",
   "mimetype": "application/julia",
   "name": "julia",
   "version": "1.11.5"
  },
  "toc": {
   "colors": {
    "hover_highlight": "#DAA520",
    "running_highlight": "#FF0000",
    "selected_highlight": "#FFD700"
   },
   "moveMenuLeft": true,
   "nav_menu": {
    "height": "341px",
    "width": "252px"
   },
   "navigate_menu": true,
   "number_sections": true,
   "sideBar": true,
   "skip_h1_title": true,
   "threshold": 4,
   "toc_cell": true,
   "toc_position": {
    "height": "336.20001220703125px",
    "left": "0px",
    "right": "628.1624755859375px",
    "top": "95.80000305175781px",
    "width": "139.83749389648438px"
   },
   "toc_section_display": "block",
   "toc_window_display": true,
   "widenNotebook": false
  },
  "toc-autonumbering": true
 },
 "nbformat": 4,
 "nbformat_minor": 4
}
